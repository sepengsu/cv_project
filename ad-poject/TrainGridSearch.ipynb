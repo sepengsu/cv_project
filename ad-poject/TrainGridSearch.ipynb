{
 "cells": [
  {
   "cell_type": "code",
   "execution_count": 1,
   "metadata": {},
   "outputs": [],
   "source": [
    "import numpy as np\n",
    "import pandas as pd\n",
    "import matplotlib.pyplot as plt\n",
    "from sklearn.metrics import roc_curve, auc\n",
    "\n",
    "import torch, torchvision\n",
    "import torch.nn.functional as F\n",
    "from torch import nn, optim\n",
    "from torchvision import transforms, datasets\n",
    "import os\n",
    "import copy, os\n",
    "from tqdm import trange"
   ]
  },
  {
   "cell_type": "markdown",
   "metadata": {},
   "source": [
    "### 세팅 "
   ]
  },
  {
   "cell_type": "code",
   "execution_count": 2,
   "metadata": {},
   "outputs": [
    {
     "name": "stdout",
     "output_type": "stream",
     "text": [
      "Using Device: cuda\n"
     ]
    }
   ],
   "source": [
    "# Computational device\n",
    "# Device will be set to GPU if it is available.(you should install valid Pytorch version with CUDA. Otherwise, it will be computed using CPU)\n",
    "USE_CUDA = torch.cuda.is_available()\n",
    "DEVICE = torch.device(\"cuda\" if USE_CUDA else \"cpu\")\n",
    "DIR = './results/gridsearch16'\n",
    "print(\"Using Device:\", DEVICE)"
   ]
  },
  {
   "cell_type": "code",
   "execution_count": 3,
   "metadata": {},
   "outputs": [],
   "source": [
    "# Fashion MNIST dataset\n",
    "trainset = datasets.FashionMNIST(\n",
    "    root      = './.data/', train = True,\n",
    "    download  = True,\n",
    "    transform = transforms.ToTensor())\n",
    "testset = datasets.FashionMNIST(\n",
    "    root      = './.data/', train     = False,\n",
    "    download  = True,\n",
    "    transform = transforms.ToTensor())"
   ]
  },
  {
   "cell_type": "code",
   "execution_count": 4,
   "metadata": {},
   "outputs": [
    {
     "name": "stdout",
     "output_type": "stream",
     "text": [
      "Train data size: 6000 Test data size: 3000\n"
     ]
    }
   ],
   "source": [
    "SELECT_NORMAL = 2 # Set 2 class as train dataset.\n",
    "trainset.data = trainset.data[trainset.targets == SELECT_NORMAL]\n",
    "trainset.targets = trainset.targets[trainset.targets == SELECT_NORMAL] # Set 2 class as train dataset.\n",
    "\n",
    "test_label = [2,4,6] # Define actual test class that we use\n",
    "actual_testdata = torch.isin(testset.targets, torch.tensor(test_label))\n",
    "testset.data = testset.data[actual_testdata]\n",
    "testset.targets = testset.targets[actual_testdata]\n",
    "\n",
    "test_loader = torch.utils.data.DataLoader(\n",
    "    dataset     = testset, batch_size  = 1,\n",
    "    shuffle     = False,num_workers = 2)\n",
    "\n",
    "train_data_size = len(trainset)\n",
    "test_data_size = len(testset)\n",
    "\n",
    "print(\"Train data size:\", train_data_size, \"Test data size:\", test_data_size)"
   ]
  },
  {
   "cell_type": "markdown",
   "metadata": {},
   "source": [
    "#### 데이터 증강 기법 사용 class "
   ]
  },
  {
   "cell_type": "code",
   "execution_count": 5,
   "metadata": {},
   "outputs": [],
   "source": [
    "class GaussianNoise(nn.Module):\n",
    "    def __init__(self, std=0.1):\n",
    "        super().__init__()\n",
    "        self.std = std\n",
    "\n",
    "    def forward(self, x):\n",
    "        if self.training:\n",
    "            noise = x.data.new(x.size()).normal_(0, self.std)\n",
    "            return x + noise\n",
    "        return x"
   ]
  },
  {
   "cell_type": "code",
   "execution_count": 6,
   "metadata": {},
   "outputs": [],
   "source": [
    "# 몇 배로 Augmentation을 할 것인지 알려주면 해당 배수만큼 Augmentation을 수행하는 클래스\n",
    "transform = transforms.Compose([\n",
    "    transforms.RandomHorizontalFlip(p=0.5),\n",
    "    transforms.RandomVerticalFlip(p=0.5),\n",
    "    transforms.RandomRotation(15),                  # 20도는 좀 크고, 15도 이하 권장\n",
    "    transforms.RandomCrop(28, padding=2),           # shift 효과\n",
    "    GaussianNoise(0.1),                          # Gaussian Noise 추가  \n",
    "])\n",
    "\n",
    "class AugmentedDataset(torch.utils.data.Dataset):\n",
    "    def __init__(self, dataset, transform=None, augmentation_factor=1):\n",
    "        '''\n",
    "        dataset: 원본 데이터셋\n",
    "        transform: 증강을 위한 transform\n",
    "        augmentation_factor: 몇 배로 Augmentation (1 포함)\n",
    "        '''\n",
    "        self.dataset = dataset\n",
    "        self.transform = transform\n",
    "        self.augmentation_factor = augmentation_factor\n",
    "        self.original_length = len(dataset)\n",
    "\n",
    "    def __len__(self):\n",
    "        # 전체 데이터 수 = 원본 * 배수\n",
    "        return self.original_length * self.augmentation_factor\n",
    "\n",
    "    def __getitem__(self, idx):\n",
    "        # 원본 인덱스\n",
    "        original_idx = idx % self.original_length\n",
    "        x, y = self.dataset[original_idx]\n",
    "\n",
    "        # factor == 1 이거나 첫 번째 패스는 원본 사용\n",
    "        if self.augmentation_factor > 1 and idx >= self.original_length:\n",
    "            if self.transform:\n",
    "                x = self.transform(x)\n",
    "        \n",
    "        return x, y\n"
   ]
  },
  {
   "cell_type": "code",
   "execution_count": 7,
   "metadata": {},
   "outputs": [
    {
     "name": "stdout",
     "output_type": "stream",
     "text": [
      "Train data size: 24000 Val data size: 1200 Test data size: 3000\n"
     ]
    }
   ],
   "source": [
    "# 데이터셋을 먼저 train과 val로 나누고, train에 대해서만 증강을 적용\n",
    "n_val = int(len(trainset) * 0.2)\n",
    "n_train = len(trainset) - n_val\n",
    "BATCH_SIZE = 1024\n",
    "\n",
    "augset, valset = torch.utils.data.random_split(trainset, [n_train, n_val], generator=torch.Generator().manual_seed(2025))\n",
    "\n",
    "augset = AugmentedDataset(augset, transform=transform, augmentation_factor=5) # augmentation_factor = 5 for baseline 모델 찾기 \n",
    "# valset은 증강을 적용하지 않음\n",
    "\n",
    "train_loader = torch.utils.data.DataLoader(\n",
    "    dataset     = augset, batch_size  = BATCH_SIZE,\n",
    "    shuffle     = True,num_workers = 0) \n",
    "\n",
    "val_loader = torch.utils.data.DataLoader(\n",
    "    dataset     = valset, batch_size = BATCH_SIZE,\n",
    "    shuffle     = False,num_workers = 0)\n",
    "\n",
    "# data size check\n",
    "print(\"Train data size:\", len(augset),\"Val data size:\", len(valset),\"Test data size:\", len(testset))"
   ]
  },
  {
   "cell_type": "markdown",
   "metadata": {},
   "source": [
    "### 모델 및 Training Setting "
   ]
  },
  {
   "cell_type": "code",
   "execution_count": 8,
   "metadata": {},
   "outputs": [],
   "source": [
    "class EarlyStopping():\n",
    "    def __init__(self, patience=10, verbose=False, delta=0):\n",
    "        '''\n",
    "        patience (int): 얼마나 기다릴지\n",
    "        verbose (bool): True일 경우 각 epoch의 loss 출력\n",
    "        delta (float): 개선이 되었다고 인정되는 최소한의 loss\n",
    "        '''\n",
    "        self.patience = patience\n",
    "        self.verbose = verbose\n",
    "        self.counter = 0\n",
    "        self.best_score = None\n",
    "        self.early_stop = False\n",
    "        self.val_loss_min = np.inf\n",
    "        self.delta = delta\n",
    "\n",
    "    def __call__(self, val_loss, model):\n",
    "        score = -val_loss # validation loss가 작을수록 좋다고 가정\n",
    "\n",
    "        if self.best_score is None:\n",
    "            self.best_score = score\n",
    "            self.save_checkpoint(val_loss, model)\n",
    "        elif score < self.best_score + self.delta:\n",
    "            self.counter += 1\n",
    "            if self.verbose:\n",
    "                print(f'EarlyStopping counter: {self.counter} out of {self.patience}')\n",
    "            if self.counter >= self.patience:\n",
    "                self.early_stop = True\n",
    "        else:\n",
    "            self.best_score = score\n",
    "            self.save_checkpoint(val_loss, model)\n",
    "            self.counter = 0\n",
    "\n",
    "    def save_checkpoint(self, val_loss, model):\n",
    "        '''validation loss가 감소하면 모델을 저장한다.'''\n",
    "        if self.verbose:\n",
    "            print(f'Validation loss decreased ({self.val_loss_min:.6f} --> {val_loss:.6f}).  Saving model ...')\n",
    "        torch.save(model.state_dict(), 'checkpoint.pt')\n",
    "        self.val_loss_min = val_loss"
   ]
  },
  {
   "cell_type": "markdown",
   "metadata": {},
   "source": [
    "### 모델 및 loss 불러오기 "
   ]
  },
  {
   "cell_type": "code",
   "execution_count": 9,
   "metadata": {},
   "outputs": [
    {
     "name": "stdout",
     "output_type": "stream",
     "text": [
      "Available models: dict_keys(['Autoencoder', 'CAE', 'CVAE', 'DeepCAE', 'DeepCVAE', 'DeepVAE', 'DenoisingAutoencoder', 'DiffusionUNet', 'GANomaly', 'HybridCAE', 'RobustAutoencoder', 'SimpleDDPM', 'SkipConnectionAutoencoder', 'TransformerAnomalyDetector', 'VAE'])\n"
     ]
    }
   ],
   "source": [
    "import torch.nn as nn\n",
    "import model\n",
    "\n",
    "def get_model_classes():\n",
    "    \"\"\"\n",
    "    model 폴더 내에서 nn.Module 기반 클래스만 자동으로 dict로 반환 (instance가 아니라 class 반환)\n",
    "    \"\"\"\n",
    "    model_classes = {}\n",
    "    for k in dir(model):\n",
    "        obj = getattr(model, k)\n",
    "        if isinstance(obj, type) and issubclass(obj, nn.Module) and obj.__module__.startswith('model.'):\n",
    "            model_classes[k] = obj  # <-- instance() 하지 않고 class 자체만 저장\n",
    "    return model_classes\n",
    "\n",
    "# 이제 model_classes는 {name: class} 형태로만 보관\n",
    "model_classes = get_model_classes()\n",
    "print(\"Available models:\", model_classes.keys())"
   ]
  },
  {
   "cell_type": "code",
   "execution_count": 10,
   "metadata": {},
   "outputs": [
    {
     "name": "stdout",
     "output_type": "stream",
     "text": [
      "Available reconstruction loss functions: dict_keys(['MSE', 'MSE+Gradient', 'MSE+MS-SSIM', 'Charbonnier+MS-SSIM', 'Charbonnier+Gradient'])\n",
      "Available diffusion loss functions: dict_keys(['MSE', 'MSE+Gradient', 'Charbonnier', 'Charbonnier+Gradient', 'Charbonnier+Gradient+Tv'])\n"
     ]
    }
   ],
   "source": [
    "# loss function\n",
    "# loss function 추천 조합\n",
    "from loss.losses import FlexibleLoss, FlexibleDiffusionLoss\n",
    "\n",
    "reconstruction_loss = {\n",
    "    \"MSE\": FlexibleLoss(mode=\"mse\"),\n",
    "    \"MSE+Gradient\": FlexibleLoss(mode=\"mse+gradient\", beta=1.0, gamma=0.1),\n",
    "    \"MSE+MS-SSIM\": FlexibleLoss(mode=\"mse+ms-ssim\", beta=1.0, alpha=0.3),\n",
    "    \"Charbonnier+MS-SSIM\": FlexibleLoss(mode=\"charbonnier+ms-ssim\", beta=1.0, alpha=0.5),\n",
    "    \"Charbonnier+Gradient\": FlexibleLoss(mode=\"charbonnier+gradient\", beta=1.0, gamma=0.1),\n",
    "}\n",
    "\n",
    "diffusion_loss = {\n",
    "    \"MSE\": FlexibleDiffusionLoss(mode=\"mse\"),\n",
    "    \"MSE+Gradient\": FlexibleDiffusionLoss(mode=\"mse+gradient\", beta=1.0, alpha=0.1),\n",
    "    \"Charbonnier\": FlexibleDiffusionLoss(mode=\"charbonnier\", beta=1.0),\n",
    "    \"Charbonnier+Gradient\": FlexibleDiffusionLoss(mode=\"charbonnier+gradient\", beta=1.0, alpha=0.1),\n",
    "    \"Charbonnier+Gradient+Tv\": FlexibleDiffusionLoss(mode=\"charbonnier+gradient+tv\", beta=1.0, alpha=0.1, gamma=0.1),\n",
    "}\n",
    "loss_functions = {\n",
    "    \"reconstruction\": reconstruction_loss,\n",
    "    \"diffusion\": diffusion_loss,\n",
    "}\n",
    "\n",
    "print(\"Available reconstruction loss functions:\", reconstruction_loss.keys())\n",
    "print(\"Available diffusion loss functions:\", diffusion_loss.keys())"
   ]
  },
  {
   "cell_type": "code",
   "execution_count": 11,
   "metadata": {},
   "outputs": [
    {
     "name": "stdout",
     "output_type": "stream",
     "text": [
      "✅ 0 models and loss functions will be deleted: []\n",
      "✅ 15 models and loss functions will be kept: ['Autoencoder', 'CAE', 'CVAE', 'DeepCAE', 'DeepCVAE', 'DeepVAE', 'DenoisingAutoencoder', 'DiffusionUNet', 'GANomaly', 'HybridCAE', 'RobustAutoencoder', 'SimpleDDPM', 'SkipConnectionAutoencoder', 'TransformerAnomalyDetector', 'VAE']\n",
      "Remaining models: dict_keys(['Autoencoder', 'CAE', 'CVAE', 'DeepCAE', 'DeepCVAE', 'DeepVAE', 'DenoisingAutoencoder', 'DiffusionUNet', 'GANomaly', 'HybridCAE', 'RobustAutoencoder', 'SimpleDDPM', 'SkipConnectionAutoencoder', 'TransformerAnomalyDetector', 'VAE'])\n"
     ]
    }
   ],
   "source": [
    "def model_delete(models, loss_functions, checkpoint_dir):\n",
    "    '''\n",
    "    이미 학습된 모델 + loss 조합을 models, loss_functions에서 제거\n",
    "    checkpoint_dir/{model_name}_{loss_name}.pth 존재 여부로 판단\n",
    "    '''\n",
    "    models_to_delete = []\n",
    "    models_not_to_delete = []\n",
    "    for model_name in list(models.keys()):\n",
    "        # 현재 모델이 사용 가능한 loss 목록\n",
    "        if hasattr(models[model_name], 'T'):\n",
    "            losses = list(loss_functions['diffusion'].keys())\n",
    "        else:\n",
    "            losses = list(loss_functions['reconstruction'].keys())\n",
    "        \n",
    "        # 해당 모델의 모든 loss 조합이 학습되었는지 확인\n",
    "        all_ckpt_exist = all(\n",
    "            os.path.exists(os.path.join(checkpoint_dir, f\"{model_name}_{loss.replace('+','and')}.pth\"))\n",
    "            for loss in losses\n",
    "        )\n",
    "\n",
    "        if all_ckpt_exist:\n",
    "            models_to_delete.append(model_name)\n",
    "        else:\n",
    "            models_not_to_delete.append(model_name)\n",
    "    \n",
    "    print(f\"✅ {len(models_to_delete)} models and loss functions will be deleted: {models_to_delete}\")\n",
    "    print(f\"✅ {len(models_not_to_delete)} models and loss functions will be kept: {models_not_to_delete}\")\n",
    "    # 실제 삭제\n",
    "    for model_name in models_to_delete:\n",
    "        del models[model_name]\n",
    "\n",
    "    return models\n",
    "# 모델과 loss function 조합을 삭제\n",
    "model_classes = model_delete(model_classes, loss_functions, DIR)\n",
    "print(\"Remaining models:\", model_classes.keys())"
   ]
  },
  {
   "cell_type": "markdown",
   "metadata": {},
   "source": [
    "### Trainer 실행 "
   ]
  },
  {
   "cell_type": "code",
   "execution_count": 12,
   "metadata": {},
   "outputs": [
    {
     "name": "stdout",
     "output_type": "stream",
     "text": [
      "Train batch image shape: torch.Size([1024, 1, 28, 28])\n",
      "Train batch label shape: torch.Size([1024])\n",
      "Test batch image shape: torch.Size([1, 1, 28, 28])\n",
      "Test batch label shape: torch.Size([1])\n"
     ]
    }
   ],
   "source": [
    "# Check the shape of a batch from train_loader and test_loader\n",
    "train_images, train_labels = next(iter(train_loader))\n",
    "test_images, test_labels = next(iter(test_loader))\n",
    "\n",
    "print(\"Train batch image shape:\", train_images.shape)\n",
    "print(\"Train batch label shape:\", train_labels.shape)\n",
    "print(\"Test batch image shape:\", test_images.shape)\n",
    "print(\"Test batch label shape:\", test_labels.shape)"
   ]
  },
  {
   "cell_type": "code",
   "execution_count": 13,
   "metadata": {},
   "outputs": [
    {
     "name": "stdout",
     "output_type": "stream",
     "text": [
      "✅ ./results/gridsearch16/logs cleared.\n",
      "✅ ./results/gridsearch16/checkpoints cleared.\n",
      "✅ ./results/gridsearch16/eval_results cleared.\n"
     ]
    }
   ],
   "source": [
    "def dir_clear(log_dir):\n",
    "    '''\n",
    "    log_dir: 로그를 저장할 디렉토리 경로\n",
    "    하위 폴더 및 파일을 삭제\n",
    "    '''\n",
    "    if os.path.exists(log_dir):\n",
    "        for root, dirs, files in os.walk(log_dir, topdown=False):\n",
    "            for name in files:\n",
    "                os.remove(os.path.join(root, name))\n",
    "            for name in dirs:\n",
    "                os.rmdir(os.path.join(root, name))\n",
    "        print(f\"✅ {log_dir} cleared.\")\n",
    "    else:\n",
    "        print(f\"❌ {log_dir} does not exist. No need to clear.\")\n",
    "\n",
    "dir_clear(DIR + \"/logs\")\n",
    "dir_clear(DIR + \"/checkpoints\")\n",
    "dir_clear(DIR + \"/eval_results\")"
   ]
  },
  {
   "cell_type": "code",
   "execution_count": null,
   "metadata": {},
   "outputs": [
    {
     "name": "stdout",
     "output_type": "stream",
     "text": [
      "==================================================\n",
      "Total Models: 15\n",
      "Reconstruction Losses: 5 Diffusion Losses: 5\n",
      "Total Combinations: 75\n",
      "==================================================\n",
      "▶ Training [Autoencoder] with [MSE] (FP16)\n"
     ]
    },
    {
     "name": "stderr",
     "output_type": "stream",
     "text": [
      "Autoencoder | MSE (FP16):   1%|          | 1/100 [00:07<11:55,  7.23s/it]"
     ]
    }
   ],
   "source": [
    "EPOCHS = 100\n",
    "PATIENCE = 20\n",
    "# GridSearchTrainerfp16\n",
    "from trainer import GridSearchTrainerFP16\n",
    "trainer = GridSearchTrainerFP16(\n",
    "    models=model_classes,\n",
    "    criterions_dict=loss_functions,\n",
    "    train_loader=train_loader,\n",
    "    val_loader=val_loader,\n",
    "    n_epochs=EPOCHS,\n",
    "    patience=PATIENCE,\n",
    "    save_dir=f'{DIR}/checkpoints',\n",
    "    verbose=False, \n",
    "    device=DEVICE,\n",
    "    lr=1e-3 * BATCH_SIZE / 256, # default learning rate for AdamW\n",
    "    log_dir=f'{DIR}/logs',\n",
    ")\n",
    "results = trainer.run()\n",
    "\n",
    "results_df = pd.DataFrame(results)\n",
    "# Save the results to a CSV file\n",
    "results_df.to_csv(f'{DIR}/training.csv', index=False)"
   ]
  },
  {
   "cell_type": "code",
   "execution_count": null,
   "metadata": {},
   "outputs": [
    {
     "data": {
      "text/html": [
       "<div>\n",
       "<style scoped>\n",
       "    .dataframe tbody tr th:only-of-type {\n",
       "        vertical-align: middle;\n",
       "    }\n",
       "\n",
       "    .dataframe tbody tr th {\n",
       "        vertical-align: top;\n",
       "    }\n",
       "\n",
       "    .dataframe thead th {\n",
       "        text-align: right;\n",
       "    }\n",
       "</style>\n",
       "<table border=\"1\" class=\"dataframe\">\n",
       "  <thead>\n",
       "    <tr style=\"text-align: right;\">\n",
       "      <th></th>\n",
       "      <th>model</th>\n",
       "      <th>loss</th>\n",
       "      <th>best_val_loss</th>\n",
       "      <th>best_epoch</th>\n",
       "      <th>gpu_peak_usage(MB)</th>\n",
       "      <th>save_path</th>\n",
       "    </tr>\n",
       "  </thead>\n",
       "  <tbody>\n",
       "    <tr>\n",
       "      <th>0</th>\n",
       "      <td>Autoencoder</td>\n",
       "      <td>MSE</td>\n",
       "      <td>0.047587</td>\n",
       "      <td>2</td>\n",
       "      <td>29.301270</td>\n",
       "      <td>./results/gridsearch16/checkpoints/Autoencoder...</td>\n",
       "    </tr>\n",
       "    <tr>\n",
       "      <th>1</th>\n",
       "      <td>Autoencoder</td>\n",
       "      <td>MSE+Gradient</td>\n",
       "      <td>0.063891</td>\n",
       "      <td>2</td>\n",
       "      <td>29.301758</td>\n",
       "      <td>./results/gridsearch16/checkpoints/Autoencoder...</td>\n",
       "    </tr>\n",
       "    <tr>\n",
       "      <th>2</th>\n",
       "      <td>CAE</td>\n",
       "      <td>MSE</td>\n",
       "      <td>0.013513</td>\n",
       "      <td>2</td>\n",
       "      <td>45.984375</td>\n",
       "      <td>./results/gridsearch16/checkpoints/CAE_MSEfp16...</td>\n",
       "    </tr>\n",
       "    <tr>\n",
       "      <th>3</th>\n",
       "      <td>CAE</td>\n",
       "      <td>MSE+Gradient</td>\n",
       "      <td>0.026053</td>\n",
       "      <td>2</td>\n",
       "      <td>26.442871</td>\n",
       "      <td>./results/gridsearch16/checkpoints/CAE_MSEandG...</td>\n",
       "    </tr>\n",
       "    <tr>\n",
       "      <th>4</th>\n",
       "      <td>CVAE</td>\n",
       "      <td>MSE</td>\n",
       "      <td>0.001912</td>\n",
       "      <td>2</td>\n",
       "      <td>38.269043</td>\n",
       "      <td>./results/gridsearch16/checkpoints/CVAE_MSEfp1...</td>\n",
       "    </tr>\n",
       "    <tr>\n",
       "      <th>5</th>\n",
       "      <td>CVAE</td>\n",
       "      <td>MSE+Gradient</td>\n",
       "      <td>0.000426</td>\n",
       "      <td>2</td>\n",
       "      <td>38.269043</td>\n",
       "      <td>./results/gridsearch16/checkpoints/CVAE_MSEand...</td>\n",
       "    </tr>\n",
       "    <tr>\n",
       "      <th>6</th>\n",
       "      <td>DeepCAE</td>\n",
       "      <td>MSE</td>\n",
       "      <td>0.029551</td>\n",
       "      <td>2</td>\n",
       "      <td>34.267578</td>\n",
       "      <td>./results/gridsearch16/checkpoints/DeepCAE_MSE...</td>\n",
       "    </tr>\n",
       "    <tr>\n",
       "      <th>7</th>\n",
       "      <td>DeepCAE</td>\n",
       "      <td>MSE+Gradient</td>\n",
       "      <td>0.063687</td>\n",
       "      <td>2</td>\n",
       "      <td>34.267578</td>\n",
       "      <td>./results/gridsearch16/checkpoints/DeepCAE_MSE...</td>\n",
       "    </tr>\n",
       "    <tr>\n",
       "      <th>8</th>\n",
       "      <td>DeepCVAE</td>\n",
       "      <td>MSE</td>\n",
       "      <td>0.000274</td>\n",
       "      <td>2</td>\n",
       "      <td>49.350586</td>\n",
       "      <td>./results/gridsearch16/checkpoints/DeepCVAE_MS...</td>\n",
       "    </tr>\n",
       "    <tr>\n",
       "      <th>9</th>\n",
       "      <td>DeepCVAE</td>\n",
       "      <td>MSE+Gradient</td>\n",
       "      <td>0.000313</td>\n",
       "      <td>2</td>\n",
       "      <td>49.350586</td>\n",
       "      <td>./results/gridsearch16/checkpoints/DeepCVAE_MS...</td>\n",
       "    </tr>\n",
       "    <tr>\n",
       "      <th>10</th>\n",
       "      <td>DeepVAE</td>\n",
       "      <td>MSE</td>\n",
       "      <td>0.000348</td>\n",
       "      <td>2</td>\n",
       "      <td>83.029297</td>\n",
       "      <td>./results/gridsearch16/checkpoints/DeepVAE_MSE...</td>\n",
       "    </tr>\n",
       "    <tr>\n",
       "      <th>11</th>\n",
       "      <td>DeepVAE</td>\n",
       "      <td>MSE+Gradient</td>\n",
       "      <td>0.000412</td>\n",
       "      <td>2</td>\n",
       "      <td>84.404785</td>\n",
       "      <td>./results/gridsearch16/checkpoints/DeepVAE_MSE...</td>\n",
       "    </tr>\n",
       "    <tr>\n",
       "      <th>12</th>\n",
       "      <td>DenoisingAutoencoder</td>\n",
       "      <td>MSE</td>\n",
       "      <td>0.010260</td>\n",
       "      <td>2</td>\n",
       "      <td>29.387207</td>\n",
       "      <td>./results/gridsearch16/checkpoints/DenoisingAu...</td>\n",
       "    </tr>\n",
       "    <tr>\n",
       "      <th>13</th>\n",
       "      <td>DenoisingAutoencoder</td>\n",
       "      <td>MSE+Gradient</td>\n",
       "      <td>0.022186</td>\n",
       "      <td>2</td>\n",
       "      <td>29.387207</td>\n",
       "      <td>./results/gridsearch16/checkpoints/DenoisingAu...</td>\n",
       "    </tr>\n",
       "    <tr>\n",
       "      <th>14</th>\n",
       "      <td>DiffusionUNet</td>\n",
       "      <td>MSE</td>\n",
       "      <td>0.034093</td>\n",
       "      <td>2</td>\n",
       "      <td>67.088867</td>\n",
       "      <td>./results/gridsearch16/checkpoints/DiffusionUN...</td>\n",
       "    </tr>\n",
       "    <tr>\n",
       "      <th>15</th>\n",
       "      <td>DiffusionUNet</td>\n",
       "      <td>MSE+Gradient</td>\n",
       "      <td>0.037824</td>\n",
       "      <td>2</td>\n",
       "      <td>157.021973</td>\n",
       "      <td>./results/gridsearch16/checkpoints/DiffusionUN...</td>\n",
       "    </tr>\n",
       "    <tr>\n",
       "      <th>16</th>\n",
       "      <td>GANomaly</td>\n",
       "      <td>MSE</td>\n",
       "      <td>18.331361</td>\n",
       "      <td>2</td>\n",
       "      <td>33.157715</td>\n",
       "      <td>./results/gridsearch16/checkpoints/GANomaly_MS...</td>\n",
       "    </tr>\n",
       "    <tr>\n",
       "      <th>17</th>\n",
       "      <td>GANomaly</td>\n",
       "      <td>MSE+Gradient</td>\n",
       "      <td>17.818570</td>\n",
       "      <td>2</td>\n",
       "      <td>33.158203</td>\n",
       "      <td>./results/gridsearch16/checkpoints/GANomaly_MS...</td>\n",
       "    </tr>\n",
       "    <tr>\n",
       "      <th>18</th>\n",
       "      <td>HybridCAE</td>\n",
       "      <td>MSE</td>\n",
       "      <td>0.039407</td>\n",
       "      <td>2</td>\n",
       "      <td>59.076172</td>\n",
       "      <td>./results/gridsearch16/checkpoints/HybridCAE_M...</td>\n",
       "    </tr>\n",
       "    <tr>\n",
       "      <th>19</th>\n",
       "      <td>HybridCAE</td>\n",
       "      <td>MSE+Gradient</td>\n",
       "      <td>0.085731</td>\n",
       "      <td>2</td>\n",
       "      <td>60.826172</td>\n",
       "      <td>./results/gridsearch16/checkpoints/HybridCAE_M...</td>\n",
       "    </tr>\n",
       "    <tr>\n",
       "      <th>20</th>\n",
       "      <td>RobustAutoencoder</td>\n",
       "      <td>MSE</td>\n",
       "      <td>0.040654</td>\n",
       "      <td>2</td>\n",
       "      <td>43.481934</td>\n",
       "      <td>./results/gridsearch16/checkpoints/RobustAutoe...</td>\n",
       "    </tr>\n",
       "    <tr>\n",
       "      <th>21</th>\n",
       "      <td>RobustAutoencoder</td>\n",
       "      <td>MSE+Gradient</td>\n",
       "      <td>0.054858</td>\n",
       "      <td>2</td>\n",
       "      <td>43.481934</td>\n",
       "      <td>./results/gridsearch16/checkpoints/RobustAutoe...</td>\n",
       "    </tr>\n",
       "    <tr>\n",
       "      <th>22</th>\n",
       "      <td>SimpleDDPM</td>\n",
       "      <td>MSE</td>\n",
       "      <td>0.133027</td>\n",
       "      <td>2</td>\n",
       "      <td>26.554688</td>\n",
       "      <td>./results/gridsearch16/checkpoints/SimpleDDPM_...</td>\n",
       "    </tr>\n",
       "    <tr>\n",
       "      <th>23</th>\n",
       "      <td>SimpleDDPM</td>\n",
       "      <td>MSE+Gradient</td>\n",
       "      <td>0.191199</td>\n",
       "      <td>2</td>\n",
       "      <td>26.554688</td>\n",
       "      <td>./results/gridsearch16/checkpoints/SimpleDDPM_...</td>\n",
       "    </tr>\n",
       "    <tr>\n",
       "      <th>24</th>\n",
       "      <td>SkipConnectionAutoencoder</td>\n",
       "      <td>MSE</td>\n",
       "      <td>0.003730</td>\n",
       "      <td>2</td>\n",
       "      <td>32.356445</td>\n",
       "      <td>./results/gridsearch16/checkpoints/SkipConnect...</td>\n",
       "    </tr>\n",
       "    <tr>\n",
       "      <th>25</th>\n",
       "      <td>SkipConnectionAutoencoder</td>\n",
       "      <td>MSE+Gradient</td>\n",
       "      <td>0.008203</td>\n",
       "      <td>2</td>\n",
       "      <td>356.995117</td>\n",
       "      <td>./results/gridsearch16/checkpoints/SkipConnect...</td>\n",
       "    </tr>\n",
       "    <tr>\n",
       "      <th>26</th>\n",
       "      <td>TransformerAnomalyDetector</td>\n",
       "      <td>MSE</td>\n",
       "      <td>0.278147</td>\n",
       "      <td>1</td>\n",
       "      <td>127.713379</td>\n",
       "      <td>./results/gridsearch16/checkpoints/Transformer...</td>\n",
       "    </tr>\n",
       "    <tr>\n",
       "      <th>27</th>\n",
       "      <td>TransformerAnomalyDetector</td>\n",
       "      <td>MSE+Gradient</td>\n",
       "      <td>0.286460</td>\n",
       "      <td>2</td>\n",
       "      <td>128.275879</td>\n",
       "      <td>./results/gridsearch16/checkpoints/Transformer...</td>\n",
       "    </tr>\n",
       "    <tr>\n",
       "      <th>28</th>\n",
       "      <td>VAE</td>\n",
       "      <td>MSE</td>\n",
       "      <td>0.001689</td>\n",
       "      <td>2</td>\n",
       "      <td>47.626953</td>\n",
       "      <td>./results/gridsearch16/checkpoints/VAE_MSEfp16...</td>\n",
       "    </tr>\n",
       "    <tr>\n",
       "      <th>29</th>\n",
       "      <td>VAE</td>\n",
       "      <td>MSE+Gradient</td>\n",
       "      <td>0.002122</td>\n",
       "      <td>2</td>\n",
       "      <td>48.095703</td>\n",
       "      <td>./results/gridsearch16/checkpoints/VAE_MSEandG...</td>\n",
       "    </tr>\n",
       "  </tbody>\n",
       "</table>\n",
       "</div>"
      ],
      "text/plain": [
       "                         model          loss  best_val_loss  best_epoch  \\\n",
       "0                  Autoencoder           MSE       0.047587           2   \n",
       "1                  Autoencoder  MSE+Gradient       0.063891           2   \n",
       "2                          CAE           MSE       0.013513           2   \n",
       "3                          CAE  MSE+Gradient       0.026053           2   \n",
       "4                         CVAE           MSE       0.001912           2   \n",
       "5                         CVAE  MSE+Gradient       0.000426           2   \n",
       "6                      DeepCAE           MSE       0.029551           2   \n",
       "7                      DeepCAE  MSE+Gradient       0.063687           2   \n",
       "8                     DeepCVAE           MSE       0.000274           2   \n",
       "9                     DeepCVAE  MSE+Gradient       0.000313           2   \n",
       "10                     DeepVAE           MSE       0.000348           2   \n",
       "11                     DeepVAE  MSE+Gradient       0.000412           2   \n",
       "12        DenoisingAutoencoder           MSE       0.010260           2   \n",
       "13        DenoisingAutoencoder  MSE+Gradient       0.022186           2   \n",
       "14               DiffusionUNet           MSE       0.034093           2   \n",
       "15               DiffusionUNet  MSE+Gradient       0.037824           2   \n",
       "16                    GANomaly           MSE      18.331361           2   \n",
       "17                    GANomaly  MSE+Gradient      17.818570           2   \n",
       "18                   HybridCAE           MSE       0.039407           2   \n",
       "19                   HybridCAE  MSE+Gradient       0.085731           2   \n",
       "20           RobustAutoencoder           MSE       0.040654           2   \n",
       "21           RobustAutoencoder  MSE+Gradient       0.054858           2   \n",
       "22                  SimpleDDPM           MSE       0.133027           2   \n",
       "23                  SimpleDDPM  MSE+Gradient       0.191199           2   \n",
       "24   SkipConnectionAutoencoder           MSE       0.003730           2   \n",
       "25   SkipConnectionAutoencoder  MSE+Gradient       0.008203           2   \n",
       "26  TransformerAnomalyDetector           MSE       0.278147           1   \n",
       "27  TransformerAnomalyDetector  MSE+Gradient       0.286460           2   \n",
       "28                         VAE           MSE       0.001689           2   \n",
       "29                         VAE  MSE+Gradient       0.002122           2   \n",
       "\n",
       "    gpu_peak_usage(MB)                                          save_path  \n",
       "0            29.301270  ./results/gridsearch16/checkpoints/Autoencoder...  \n",
       "1            29.301758  ./results/gridsearch16/checkpoints/Autoencoder...  \n",
       "2            45.984375  ./results/gridsearch16/checkpoints/CAE_MSEfp16...  \n",
       "3            26.442871  ./results/gridsearch16/checkpoints/CAE_MSEandG...  \n",
       "4            38.269043  ./results/gridsearch16/checkpoints/CVAE_MSEfp1...  \n",
       "5            38.269043  ./results/gridsearch16/checkpoints/CVAE_MSEand...  \n",
       "6            34.267578  ./results/gridsearch16/checkpoints/DeepCAE_MSE...  \n",
       "7            34.267578  ./results/gridsearch16/checkpoints/DeepCAE_MSE...  \n",
       "8            49.350586  ./results/gridsearch16/checkpoints/DeepCVAE_MS...  \n",
       "9            49.350586  ./results/gridsearch16/checkpoints/DeepCVAE_MS...  \n",
       "10           83.029297  ./results/gridsearch16/checkpoints/DeepVAE_MSE...  \n",
       "11           84.404785  ./results/gridsearch16/checkpoints/DeepVAE_MSE...  \n",
       "12           29.387207  ./results/gridsearch16/checkpoints/DenoisingAu...  \n",
       "13           29.387207  ./results/gridsearch16/checkpoints/DenoisingAu...  \n",
       "14           67.088867  ./results/gridsearch16/checkpoints/DiffusionUN...  \n",
       "15          157.021973  ./results/gridsearch16/checkpoints/DiffusionUN...  \n",
       "16           33.157715  ./results/gridsearch16/checkpoints/GANomaly_MS...  \n",
       "17           33.158203  ./results/gridsearch16/checkpoints/GANomaly_MS...  \n",
       "18           59.076172  ./results/gridsearch16/checkpoints/HybridCAE_M...  \n",
       "19           60.826172  ./results/gridsearch16/checkpoints/HybridCAE_M...  \n",
       "20           43.481934  ./results/gridsearch16/checkpoints/RobustAutoe...  \n",
       "21           43.481934  ./results/gridsearch16/checkpoints/RobustAutoe...  \n",
       "22           26.554688  ./results/gridsearch16/checkpoints/SimpleDDPM_...  \n",
       "23           26.554688  ./results/gridsearch16/checkpoints/SimpleDDPM_...  \n",
       "24           32.356445  ./results/gridsearch16/checkpoints/SkipConnect...  \n",
       "25          356.995117  ./results/gridsearch16/checkpoints/SkipConnect...  \n",
       "26          127.713379  ./results/gridsearch16/checkpoints/Transformer...  \n",
       "27          128.275879  ./results/gridsearch16/checkpoints/Transformer...  \n",
       "28           47.626953  ./results/gridsearch16/checkpoints/VAE_MSEfp16...  \n",
       "29           48.095703  ./results/gridsearch16/checkpoints/VAE_MSEandG...  "
      ]
     },
     "execution_count": 15,
     "metadata": {},
     "output_type": "execute_result"
    }
   ],
   "source": [
    "results_df"
   ]
  },
  {
   "cell_type": "code",
   "execution_count": null,
   "metadata": {},
   "outputs": [
    {
     "name": "stdout",
     "output_type": "stream",
     "text": [
      "tensorboard --logdir ./results/gridsearch16/logs\n"
     ]
    }
   ],
   "source": [
    "print(f\"tensorboard --logdir {DIR}/logs\") # tensorboard --logdir ./results/gridsearch16/logs/1"
   ]
  },
  {
   "cell_type": "markdown",
   "metadata": {},
   "source": [
    "### eval"
   ]
  },
  {
   "cell_type": "code",
   "execution_count": null,
   "metadata": {},
   "outputs": [],
   "source": [
    "import os\n",
    "import torch\n",
    "import torch.nn.functional as F\n",
    "import numpy as np\n",
    "import pandas as pd\n",
    "from sklearn.metrics import roc_auc_score, precision_recall_curve, auc, f1_score, accuracy_score\n",
    "from tqdm import tqdm\n",
    "\n",
    "class Evaluator:\n",
    "    def __init__(self, checkpoint_dir, val_loader, test_loader, device=None, percentile=0.95, save_dir='./eval_results'):\n",
    "        self.checkpoint_dir = checkpoint_dir\n",
    "        self.val_loader = val_loader\n",
    "        self.test_loader = test_loader\n",
    "        self.device = device if device else torch.device('cuda' if torch.cuda.is_available() else 'cpu')\n",
    "        self.percentile = percentile\n",
    "        self.save_dir = save_dir\n",
    "        os.makedirs(self.save_dir, exist_ok=True)\n",
    "\n",
    "    def load_model(self, model_name):\n",
    "        \"\"\"모델 이름으로부터 instance 생성\"\"\"\n",
    "        model_class = get_model_classes()[model_name]\n",
    "        model = model_class().to(self.device)\n",
    "        return model\n",
    "\n",
    "    def compute_score(self, model, x):\n",
    "        \"\"\"Diffusion → noise mse / AE, VAE, etc → recon mse\"\"\"\n",
    "        if hasattr(model, 'T'):\n",
    "            t = torch.randint(0, model.T, (x.size(0),), device=x.device)\n",
    "            noise_pred, noise = model(x, t)\n",
    "            return F.mse_loss(noise_pred, noise, reduction='none').view(x.size(0), -1).mean(dim=1)\n",
    "        else:\n",
    "            output = model(x)\n",
    "            if isinstance(output, tuple):\n",
    "                output = output[0]\n",
    "            return F.mse_loss(output, x, reduction='none').view(x.size(0), -1).mean(dim=1)\n",
    "\n",
    "    def get_scores(self, loader, model):\n",
    "        \"\"\"Validation 또는 Test set에 대한 score 계산\"\"\"\n",
    "        model.eval()\n",
    "        scores, labels = [], []\n",
    "        with torch.no_grad():\n",
    "            for x, y in tqdm(loader, desc=\"Scoring\"):\n",
    "                x = x.to(self.device)\n",
    "                score = self.compute_score(model, x)\n",
    "                scores.append(score.cpu())\n",
    "                labels.append(y.cpu())\n",
    "        return torch.cat(scores).numpy(), torch.cat(labels).numpy()\n",
    "\n",
    "    def run(self):\n",
    "        checkpoint_files = [f for f in os.listdir(self.checkpoint_dir) if f.endswith(\".pth\")]\n",
    "        results = []\n",
    "\n",
    "        for ckpt in checkpoint_files:\n",
    "            print(f\"\\n▶ Evaluating {ckpt}\")\n",
    "\n",
    "            # 안전하게 loss_name에 _가 여러 개 들어가도 마지막만 split\n",
    "            model_name, loss_name = ckpt[:-4].rsplit(\"_\", 1)\n",
    "\n",
    "            model = self.load_model(model_name)\n",
    "            model.load_state_dict(torch.load(os.path.join(self.checkpoint_dir, ckpt)))\n",
    "\n",
    "            # --------------------------\n",
    "            # Threshold 계산 (Validation)\n",
    "            # --------------------------\n",
    "            val_scores, _ = self.get_scores(self.val_loader, model)\n",
    "            threshold = np.percentile(val_scores, self.percentile * 100)\n",
    "            print(f\" >> Threshold ({self.percentile*100:.0f}%) = {threshold:.4f}\")\n",
    "\n",
    "            # --------------------------\n",
    "            # Test 평가\n",
    "            # --------------------------\n",
    "            test_scores, test_labels = self.get_scores(self.test_loader, model)\n",
    "            test_labels = (test_labels != 2).astype(int)  # class 2 = normal\n",
    "            preds = (test_scores > threshold).astype(int)\n",
    "\n",
    "            auc_score = roc_auc_score(test_labels, test_scores)\n",
    "            precision, recall, _ = precision_recall_curve(test_labels, test_scores)\n",
    "            pr_auc = auc(recall, precision)\n",
    "            f1 = f1_score(test_labels, preds)\n",
    "            acc = accuracy_score(test_labels, preds)\n",
    "\n",
    "            print(f\"ROC-AUC: {auc_score:.4f} | PR-AUC: {pr_auc:.4f} | F1: {f1:.4f} | ACC: {acc:.4f}\")\n",
    "\n",
    "            results.append({\n",
    "                \"checkpoint\": ckpt,\n",
    "                \"threshold\": threshold,\n",
    "                \"roc_auc\": auc_score,\n",
    "                \"pr_auc\": pr_auc,\n",
    "                \"f1\": f1,\n",
    "                \"acc\": acc\n",
    "            })\n",
    "\n",
    "        df = pd.DataFrame(results)\n",
    "        return df\n"
   ]
  },
  {
   "cell_type": "code",
   "execution_count": null,
   "metadata": {},
   "outputs": [
    {
     "name": "stdout",
     "output_type": "stream",
     "text": [
      "\n",
      "▶ Evaluating Autoencoder_MSEandGradientfp16.pth\n"
     ]
    },
    {
     "name": "stderr",
     "output_type": "stream",
     "text": [
      "Scoring: 100%|██████████| 2/2 [00:00<00:00, 46.51it/s]\n"
     ]
    },
    {
     "name": "stdout",
     "output_type": "stream",
     "text": [
      " >> Threshold (95%) = 0.0828\n"
     ]
    },
    {
     "name": "stderr",
     "output_type": "stream",
     "text": [
      "Scoring: 100%|██████████| 3000/3000 [00:05<00:00, 510.26it/s] \n"
     ]
    },
    {
     "name": "stdout",
     "output_type": "stream",
     "text": [
      "ROC-AUC: 0.5594 | PR-AUC: 0.6998 | F1: 0.1241 | ACC: 0.3603\n",
      "\n",
      "▶ Evaluating Autoencoder_MSEfp16.pth\n"
     ]
    },
    {
     "name": "stderr",
     "output_type": "stream",
     "text": [
      "Scoring: 100%|██████████| 2/2 [00:00<00:00, 42.55it/s]\n"
     ]
    },
    {
     "name": "stdout",
     "output_type": "stream",
     "text": [
      " >> Threshold (95%) = 0.0833\n"
     ]
    },
    {
     "name": "stderr",
     "output_type": "stream",
     "text": [
      "Scoring: 100%|██████████| 3000/3000 [00:04<00:00, 708.67it/s] \n"
     ]
    },
    {
     "name": "stdout",
     "output_type": "stream",
     "text": [
      "ROC-AUC: 0.5431 | PR-AUC: 0.6914 | F1: 0.1208 | ACC: 0.3593\n",
      "\n",
      "▶ Evaluating CAE_MSEandGradientfp16.pth\n"
     ]
    },
    {
     "name": "stderr",
     "output_type": "stream",
     "text": [
      "Scoring: 100%|██████████| 2/2 [00:00<00:00, 20.20it/s]\n"
     ]
    },
    {
     "name": "stdout",
     "output_type": "stream",
     "text": [
      " >> Threshold (95%) = 0.0191\n"
     ]
    },
    {
     "name": "stderr",
     "output_type": "stream",
     "text": [
      "Scoring: 100%|██████████| 3000/3000 [00:04<00:00, 615.78it/s] \n"
     ]
    },
    {
     "name": "stdout",
     "output_type": "stream",
     "text": [
      "ROC-AUC: 0.4007 | PR-AUC: 0.6189 | F1: 0.1157 | ACC: 0.3527\n",
      "\n",
      "▶ Evaluating CAE_MSEfp16.pth\n"
     ]
    },
    {
     "name": "stderr",
     "output_type": "stream",
     "text": [
      "Scoring: 100%|██████████| 2/2 [00:00<00:00, 22.22it/s]\n"
     ]
    },
    {
     "name": "stdout",
     "output_type": "stream",
     "text": [
      " >> Threshold (95%) = 0.0195\n"
     ]
    },
    {
     "name": "stderr",
     "output_type": "stream",
     "text": [
      "Scoring: 100%|██████████| 3000/3000 [00:04<00:00, 633.77it/s] \n"
     ]
    },
    {
     "name": "stdout",
     "output_type": "stream",
     "text": [
      "ROC-AUC: 0.4017 | PR-AUC: 0.6166 | F1: 0.1157 | ACC: 0.3527\n",
      "\n",
      "▶ Evaluating CVAE_MSEandGradientfp16.pth\n"
     ]
    },
    {
     "name": "stderr",
     "output_type": "stream",
     "text": [
      "Scoring: 100%|██████████| 2/2 [00:00<00:00, 21.51it/s]\n"
     ]
    },
    {
     "name": "stdout",
     "output_type": "stream",
     "text": [
      " >> Threshold (95%) = 0.1228\n"
     ]
    },
    {
     "name": "stderr",
     "output_type": "stream",
     "text": [
      "Scoring: 100%|██████████| 3000/3000 [00:05<00:00, 590.03it/s] \n"
     ]
    },
    {
     "name": "stdout",
     "output_type": "stream",
     "text": [
      "ROC-AUC: 0.5211 | PR-AUC: 0.6645 | F1: 0.0543 | ACC: 0.3387\n",
      "\n",
      "▶ Evaluating CVAE_MSEfp16.pth\n"
     ]
    },
    {
     "name": "stderr",
     "output_type": "stream",
     "text": [
      "Scoring: 100%|██████████| 2/2 [00:00<00:00, 29.85it/s]\n"
     ]
    },
    {
     "name": "stdout",
     "output_type": "stream",
     "text": [
      " >> Threshold (95%) = 0.1253\n"
     ]
    },
    {
     "name": "stderr",
     "output_type": "stream",
     "text": [
      "Scoring: 100%|██████████| 3000/3000 [00:04<00:00, 611.39it/s] \n"
     ]
    },
    {
     "name": "stdout",
     "output_type": "stream",
     "text": [
      "ROC-AUC: 0.5188 | PR-AUC: 0.6631 | F1: 0.0470 | ACC: 0.3373\n",
      "\n",
      "▶ Evaluating DeepCAE_MSEandGradientfp16.pth\n"
     ]
    },
    {
     "name": "stderr",
     "output_type": "stream",
     "text": [
      "Scoring: 100%|██████████| 2/2 [00:00<00:00, 17.86it/s]\n"
     ]
    },
    {
     "name": "stdout",
     "output_type": "stream",
     "text": [
      " >> Threshold (95%) = 0.0789\n"
     ]
    },
    {
     "name": "stderr",
     "output_type": "stream",
     "text": [
      "Scoring: 100%|██████████| 3000/3000 [00:04<00:00, 658.90it/s] \n"
     ]
    },
    {
     "name": "stdout",
     "output_type": "stream",
     "text": [
      "ROC-AUC: 0.5185 | PR-AUC: 0.6554 | F1: 0.0631 | ACC: 0.3367\n",
      "\n",
      "▶ Evaluating DeepCAE_MSEfp16.pth\n"
     ]
    },
    {
     "name": "stderr",
     "output_type": "stream",
     "text": [
      "Scoring: 100%|██████████| 2/2 [00:00<00:00, 27.40it/s]\n"
     ]
    },
    {
     "name": "stdout",
     "output_type": "stream",
     "text": [
      " >> Threshold (95%) = 0.0542\n"
     ]
    },
    {
     "name": "stderr",
     "output_type": "stream",
     "text": [
      "Scoring: 100%|██████████| 3000/3000 [00:04<00:00, 628.99it/s] \n"
     ]
    },
    {
     "name": "stdout",
     "output_type": "stream",
     "text": [
      "ROC-AUC: 0.4266 | PR-AUC: 0.6121 | F1: 0.0485 | ACC: 0.3327\n",
      "\n",
      "▶ Evaluating DeepCVAE_MSEandGradientfp16.pth\n"
     ]
    },
    {
     "name": "stderr",
     "output_type": "stream",
     "text": [
      "Scoring: 100%|██████████| 2/2 [00:00<00:00, 27.36it/s]\n"
     ]
    },
    {
     "name": "stdout",
     "output_type": "stream",
     "text": [
      " >> Threshold (95%) = 0.1215\n"
     ]
    },
    {
     "name": "stderr",
     "output_type": "stream",
     "text": [
      "Scoring: 100%|██████████| 3000/3000 [00:04<00:00, 610.93it/s] \n"
     ]
    },
    {
     "name": "stdout",
     "output_type": "stream",
     "text": [
      "ROC-AUC: 0.5203 | PR-AUC: 0.6639 | F1: 0.0405 | ACC: 0.3360\n",
      "\n",
      "▶ Evaluating DeepCVAE_MSEfp16.pth\n"
     ]
    },
    {
     "name": "stderr",
     "output_type": "stream",
     "text": [
      "Scoring: 100%|██████████| 2/2 [00:00<00:00, 28.17it/s]\n"
     ]
    },
    {
     "name": "stdout",
     "output_type": "stream",
     "text": [
      " >> Threshold (95%) = 0.1192\n"
     ]
    },
    {
     "name": "stderr",
     "output_type": "stream",
     "text": [
      "Scoring: 100%|██████████| 3000/3000 [00:05<00:00, 587.04it/s] \n"
     ]
    },
    {
     "name": "stdout",
     "output_type": "stream",
     "text": [
      "ROC-AUC: 0.5225 | PR-AUC: 0.6666 | F1: 0.0516 | ACC: 0.3390\n",
      "\n",
      "▶ Evaluating DeepVAE_MSEandGradientfp16.pth\n"
     ]
    },
    {
     "name": "stderr",
     "output_type": "stream",
     "text": [
      "Scoring: 100%|██████████| 2/2 [00:00<00:00, 42.55it/s]\n"
     ]
    },
    {
     "name": "stdout",
     "output_type": "stream",
     "text": [
      " >> Threshold (95%) = 0.1185\n"
     ]
    },
    {
     "name": "stderr",
     "output_type": "stream",
     "text": [
      "Scoring: 100%|██████████| 3000/3000 [00:04<00:00, 603.69it/s] \n"
     ]
    },
    {
     "name": "stdout",
     "output_type": "stream",
     "text": [
      "ROC-AUC: 0.5199 | PR-AUC: 0.6651 | F1: 0.0544 | ACC: 0.3390\n",
      "\n",
      "▶ Evaluating DeepVAE_MSEfp16.pth\n"
     ]
    },
    {
     "name": "stderr",
     "output_type": "stream",
     "text": [
      "Scoring: 100%|██████████| 2/2 [00:00<00:00, 41.67it/s]\n"
     ]
    },
    {
     "name": "stdout",
     "output_type": "stream",
     "text": [
      " >> Threshold (95%) = 0.1177\n"
     ]
    },
    {
     "name": "stderr",
     "output_type": "stream",
     "text": [
      "Scoring: 100%|██████████| 3000/3000 [00:05<00:00, 576.76it/s] \n"
     ]
    },
    {
     "name": "stdout",
     "output_type": "stream",
     "text": [
      "ROC-AUC: 0.5185 | PR-AUC: 0.6641 | F1: 0.0534 | ACC: 0.3387\n",
      "\n",
      "▶ Evaluating DenoisingAutoencoder_MSEandGradientfp16.pth\n"
     ]
    },
    {
     "name": "stderr",
     "output_type": "stream",
     "text": [
      "Scoring: 100%|██████████| 2/2 [00:00<00:00, 16.26it/s]\n"
     ]
    },
    {
     "name": "stdout",
     "output_type": "stream",
     "text": [
      " >> Threshold (95%) = 0.0154\n"
     ]
    },
    {
     "name": "stderr",
     "output_type": "stream",
     "text": [
      "Scoring: 100%|██████████| 3000/3000 [00:04<00:00, 637.94it/s] \n"
     ]
    },
    {
     "name": "stdout",
     "output_type": "stream",
     "text": [
      "ROC-AUC: 0.4393 | PR-AUC: 0.6419 | F1: 0.1303 | ACC: 0.3590\n",
      "\n",
      "▶ Evaluating DenoisingAutoencoder_MSEfp16.pth\n"
     ]
    },
    {
     "name": "stderr",
     "output_type": "stream",
     "text": [
      "Scoring: 100%|██████████| 2/2 [00:00<00:00, 10.75it/s]\n"
     ]
    },
    {
     "name": "stdout",
     "output_type": "stream",
     "text": [
      " >> Threshold (95%) = 0.0155\n"
     ]
    },
    {
     "name": "stderr",
     "output_type": "stream",
     "text": [
      "Scoring: 100%|██████████| 3000/3000 [00:04<00:00, 632.33it/s] \n"
     ]
    },
    {
     "name": "stdout",
     "output_type": "stream",
     "text": [
      "ROC-AUC: 0.4330 | PR-AUC: 0.6385 | F1: 0.1177 | ACC: 0.3553\n",
      "\n",
      "▶ Evaluating DiffusionUNet_MSEandGradientfp16.pth\n"
     ]
    },
    {
     "name": "stderr",
     "output_type": "stream",
     "text": [
      "Scoring: 100%|██████████| 2/2 [00:00<00:00,  4.61it/s]\n"
     ]
    },
    {
     "name": "stdout",
     "output_type": "stream",
     "text": [
      " >> Threshold (95%) = 0.0354\n"
     ]
    },
    {
     "name": "stderr",
     "output_type": "stream",
     "text": [
      "Scoring: 100%|██████████| 3000/3000 [00:04<00:00, 618.90it/s] \n"
     ]
    },
    {
     "name": "stdout",
     "output_type": "stream",
     "text": [
      "ROC-AUC: 0.4251 | PR-AUC: 0.5999 | F1: 0.0251 | ACC: 0.3263\n",
      "\n",
      "▶ Evaluating DiffusionUNet_MSEfp16.pth\n"
     ]
    },
    {
     "name": "stderr",
     "output_type": "stream",
     "text": [
      "Scoring: 100%|██████████| 2/2 [00:00<00:00,  8.10it/s]\n"
     ]
    },
    {
     "name": "stdout",
     "output_type": "stream",
     "text": [
      " >> Threshold (95%) = 0.0532\n"
     ]
    },
    {
     "name": "stderr",
     "output_type": "stream",
     "text": [
      "Scoring: 100%|██████████| 3000/3000 [00:04<00:00, 623.01it/s] \n"
     ]
    },
    {
     "name": "stdout",
     "output_type": "stream",
     "text": [
      "ROC-AUC: 0.4569 | PR-AUC: 0.6097 | F1: 0.0279 | ACC: 0.3267\n",
      "\n",
      "▶ Evaluating GANomaly_MSEandGradientfp16.pth\n"
     ]
    },
    {
     "name": "stderr",
     "output_type": "stream",
     "text": [
      "Scoring: 100%|██████████| 2/2 [00:00<00:00, 14.38it/s]\n"
     ]
    },
    {
     "name": "stdout",
     "output_type": "stream",
     "text": [
      " >> Threshold (95%) = 0.0336\n"
     ]
    },
    {
     "name": "stderr",
     "output_type": "stream",
     "text": [
      "Scoring: 100%|██████████| 3000/3000 [00:05<00:00, 598.47it/s] \n"
     ]
    },
    {
     "name": "stdout",
     "output_type": "stream",
     "text": [
      "ROC-AUC: 0.3602 | PR-AUC: 0.5893 | F1: 0.0791 | ACC: 0.3407\n",
      "\n",
      "▶ Evaluating GANomaly_MSEfp16.pth\n"
     ]
    },
    {
     "name": "stderr",
     "output_type": "stream",
     "text": [
      "Scoring: 100%|██████████| 2/2 [00:00<00:00, 13.89it/s]\n"
     ]
    },
    {
     "name": "stdout",
     "output_type": "stream",
     "text": [
      " >> Threshold (95%) = 0.0346\n"
     ]
    },
    {
     "name": "stderr",
     "output_type": "stream",
     "text": [
      "Scoring: 100%|██████████| 3000/3000 [00:05<00:00, 586.44it/s] \n"
     ]
    },
    {
     "name": "stdout",
     "output_type": "stream",
     "text": [
      "ROC-AUC: 0.3833 | PR-AUC: 0.5927 | F1: 0.0577 | ACC: 0.3360\n",
      "\n",
      "▶ Evaluating HybridCAE_MSEandGradientfp16.pth\n"
     ]
    },
    {
     "name": "stderr",
     "output_type": "stream",
     "text": [
      "Scoring: 100%|██████████| 2/2 [00:00<00:00, 31.75it/s]\n"
     ]
    },
    {
     "name": "stdout",
     "output_type": "stream",
     "text": [
      " >> Threshold (95%) = 0.1168\n"
     ]
    },
    {
     "name": "stderr",
     "output_type": "stream",
     "text": [
      "Scoring: 100%|██████████| 3000/3000 [00:04<00:00, 618.99it/s] \n"
     ]
    },
    {
     "name": "stdout",
     "output_type": "stream",
     "text": [
      "ROC-AUC: 0.5162 | PR-AUC: 0.6635 | F1: 0.0572 | ACC: 0.3407\n",
      "\n",
      "▶ Evaluating HybridCAE_MSEfp16.pth\n"
     ]
    },
    {
     "name": "stderr",
     "output_type": "stream",
     "text": [
      "Scoring: 100%|██████████| 2/2 [00:00<00:00, 21.98it/s]\n"
     ]
    },
    {
     "name": "stdout",
     "output_type": "stream",
     "text": [
      " >> Threshold (95%) = 0.0717\n"
     ]
    },
    {
     "name": "stderr",
     "output_type": "stream",
     "text": [
      "Scoring: 100%|██████████| 3000/3000 [00:04<00:00, 609.19it/s] \n"
     ]
    },
    {
     "name": "stdout",
     "output_type": "stream",
     "text": [
      "ROC-AUC: 0.5475 | PR-AUC: 0.6950 | F1: 0.1350 | ACC: 0.3637\n",
      "\n",
      "▶ Evaluating RobustAutoencoder_MSEandGradientfp16.pth\n"
     ]
    },
    {
     "name": "stderr",
     "output_type": "stream",
     "text": [
      "Scoring: 100%|██████████| 2/2 [00:00<00:00, 41.61it/s]\n"
     ]
    },
    {
     "name": "stdout",
     "output_type": "stream",
     "text": [
      " >> Threshold (95%) = 0.0677\n"
     ]
    },
    {
     "name": "stderr",
     "output_type": "stream",
     "text": [
      "Scoring: 100%|██████████| 3000/3000 [00:04<00:00, 664.27it/s] \n"
     ]
    },
    {
     "name": "stdout",
     "output_type": "stream",
     "text": [
      "ROC-AUC: 0.5885 | PR-AUC: 0.7273 | F1: 0.1811 | ACC: 0.3820\n",
      "\n",
      "▶ Evaluating RobustAutoencoder_MSEfp16.pth\n"
     ]
    },
    {
     "name": "stderr",
     "output_type": "stream",
     "text": [
      "Scoring: 100%|██████████| 2/2 [00:00<00:00, 40.82it/s]\n"
     ]
    },
    {
     "name": "stdout",
     "output_type": "stream",
     "text": [
      " >> Threshold (95%) = 0.0732\n"
     ]
    },
    {
     "name": "stderr",
     "output_type": "stream",
     "text": [
      "Scoring: 100%|██████████| 3000/3000 [00:04<00:00, 680.24it/s] \n"
     ]
    },
    {
     "name": "stdout",
     "output_type": "stream",
     "text": [
      "ROC-AUC: 0.5830 | PR-AUC: 0.7234 | F1: 0.1560 | ACC: 0.3760\n",
      "\n",
      "▶ Evaluating SimpleDDPM_MSEandGradientfp16.pth\n"
     ]
    },
    {
     "name": "stderr",
     "output_type": "stream",
     "text": [
      "Scoring: 100%|██████████| 2/2 [00:00<00:00,  3.90it/s]\n"
     ]
    },
    {
     "name": "stdout",
     "output_type": "stream",
     "text": [
      " >> Threshold (95%) = 0.5996\n"
     ]
    },
    {
     "name": "stderr",
     "output_type": "stream",
     "text": [
      "Scoring: 100%|██████████| 3000/3000 [00:04<00:00, 669.60it/s] \n"
     ]
    },
    {
     "name": "stdout",
     "output_type": "stream",
     "text": [
      "ROC-AUC: 0.4966 | PR-AUC: 0.6529 | F1: 0.0622 | ACC: 0.3370\n",
      "\n",
      "▶ Evaluating SimpleDDPM_MSEfp16.pth\n"
     ]
    },
    {
     "name": "stderr",
     "output_type": "stream",
     "text": [
      "Scoring: 100%|██████████| 2/2 [00:00<00:00,  8.85it/s]\n"
     ]
    },
    {
     "name": "stdout",
     "output_type": "stream",
     "text": [
      " >> Threshold (95%) = 0.5821\n"
     ]
    },
    {
     "name": "stderr",
     "output_type": "stream",
     "text": [
      "Scoring: 100%|██████████| 3000/3000 [00:04<00:00, 661.07it/s] \n"
     ]
    },
    {
     "name": "stdout",
     "output_type": "stream",
     "text": [
      "ROC-AUC: 0.5005 | PR-AUC: 0.6681 | F1: 0.0826 | ACC: 0.3487\n",
      "\n",
      "▶ Evaluating SkipConnectionAutoencoder_MSEandGradientfp16.pth\n"
     ]
    },
    {
     "name": "stderr",
     "output_type": "stream",
     "text": [
      "Scoring: 100%|██████████| 2/2 [00:00<00:00,  8.52it/s]\n"
     ]
    },
    {
     "name": "stdout",
     "output_type": "stream",
     "text": [
      " >> Threshold (95%) = 0.0036\n"
     ]
    },
    {
     "name": "stderr",
     "output_type": "stream",
     "text": [
      "Scoring: 100%|██████████| 3000/3000 [00:04<00:00, 658.34it/s] \n"
     ]
    },
    {
     "name": "stdout",
     "output_type": "stream",
     "text": [
      "ROC-AUC: 0.4227 | PR-AUC: 0.6298 | F1: 0.1224 | ACC: 0.3547\n",
      "\n",
      "▶ Evaluating SkipConnectionAutoencoder_MSEfp16.pth\n"
     ]
    },
    {
     "name": "stderr",
     "output_type": "stream",
     "text": [
      "Scoring: 100%|██████████| 2/2 [00:00<00:00,  8.23it/s]\n"
     ]
    },
    {
     "name": "stdout",
     "output_type": "stream",
     "text": [
      " >> Threshold (95%) = 0.0057\n"
     ]
    },
    {
     "name": "stderr",
     "output_type": "stream",
     "text": [
      "Scoring: 100%|██████████| 3000/3000 [00:04<00:00, 678.45it/s] \n"
     ]
    },
    {
     "name": "stdout",
     "output_type": "stream",
     "text": [
      "ROC-AUC: 0.4280 | PR-AUC: 0.6286 | F1: 0.1037 | ACC: 0.3487\n",
      "\n",
      "▶ Evaluating TransformerAnomalyDetector_MSEandGradientfp16.pth\n"
     ]
    },
    {
     "name": "stderr",
     "output_type": "stream",
     "text": [
      "Scoring: 100%|██████████| 2/2 [00:00<00:00,  6.02it/s]\n"
     ]
    },
    {
     "name": "stdout",
     "output_type": "stream",
     "text": [
      " >> Threshold (95%) = 0.4595\n"
     ]
    },
    {
     "name": "stderr",
     "output_type": "stream",
     "text": [
      "Scoring: 100%|██████████| 3000/3000 [00:06<00:00, 474.16it/s]\n"
     ]
    },
    {
     "name": "stdout",
     "output_type": "stream",
     "text": [
      "ROC-AUC: 0.4946 | PR-AUC: 0.6428 | F1: 0.0355 | ACC: 0.3303\n",
      "\n",
      "▶ Evaluating TransformerAnomalyDetector_MSEfp16.pth\n"
     ]
    },
    {
     "name": "stderr",
     "output_type": "stream",
     "text": [
      "Scoring: 100%|██████████| 2/2 [00:00<00:00,  5.19it/s]\n"
     ]
    },
    {
     "name": "stdout",
     "output_type": "stream",
     "text": [
      " >> Threshold (95%) = 0.4861\n"
     ]
    },
    {
     "name": "stderr",
     "output_type": "stream",
     "text": [
      "Scoring: 100%|██████████| 3000/3000 [00:06<00:00, 474.09it/s]\n"
     ]
    },
    {
     "name": "stdout",
     "output_type": "stream",
     "text": [
      "ROC-AUC: 0.4932 | PR-AUC: 0.6422 | F1: 0.0364 | ACC: 0.3297\n",
      "\n",
      "▶ Evaluating VAE_MSEandGradientfp16.pth\n"
     ]
    },
    {
     "name": "stderr",
     "output_type": "stream",
     "text": [
      "Scoring: 100%|██████████| 2/2 [00:00<00:00, 44.45it/s]\n"
     ]
    },
    {
     "name": "stdout",
     "output_type": "stream",
     "text": [
      " >> Threshold (95%) = 0.1206\n"
     ]
    },
    {
     "name": "stderr",
     "output_type": "stream",
     "text": [
      "Scoring: 100%|██████████| 3000/3000 [00:04<00:00, 666.46it/s] \n"
     ]
    },
    {
     "name": "stdout",
     "output_type": "stream",
     "text": [
      "ROC-AUC: 0.5215 | PR-AUC: 0.6697 | F1: 0.0573 | ACC: 0.3420\n",
      "\n",
      "▶ Evaluating VAE_MSEfp16.pth\n"
     ]
    },
    {
     "name": "stderr",
     "output_type": "stream",
     "text": [
      "Scoring: 100%|██████████| 2/2 [00:00<00:00, 41.67it/s]\n"
     ]
    },
    {
     "name": "stdout",
     "output_type": "stream",
     "text": [
      " >> Threshold (95%) = 0.1235\n"
     ]
    },
    {
     "name": "stderr",
     "output_type": "stream",
     "text": [
      "Scoring: 100%|██████████| 3000/3000 [00:04<00:00, 631.00it/s] "
     ]
    },
    {
     "name": "stdout",
     "output_type": "stream",
     "text": [
      "ROC-AUC: 0.5124 | PR-AUC: 0.6679 | F1: 0.0601 | ACC: 0.3437\n"
     ]
    },
    {
     "name": "stderr",
     "output_type": "stream",
     "text": [
      "\n"
     ]
    }
   ],
   "source": [
    "evaluator = Evaluator(\n",
    "    checkpoint_dir=f'{DIR}/checkpoints',\n",
    "    val_loader=val_loader,\n",
    "    test_loader=test_loader,\n",
    "    device=DEVICE,\n",
    "    percentile=0.95,\n",
    "    save_dir=f'{DIR}/eval_results'  # ⭕ 저장할 디렉토리\n",
    ")\n",
    "eval_results = evaluator.run()\n",
    "eval_results.to_csv(f'{DIR}/eval_results/eval_results.csv', index=False)  # ⭕ CSV로 저장"
   ]
  },
  {
   "cell_type": "code",
   "execution_count": null,
   "metadata": {},
   "outputs": [
    {
     "data": {
      "text/html": [
       "<div>\n",
       "<style scoped>\n",
       "    .dataframe tbody tr th:only-of-type {\n",
       "        vertical-align: middle;\n",
       "    }\n",
       "\n",
       "    .dataframe tbody tr th {\n",
       "        vertical-align: top;\n",
       "    }\n",
       "\n",
       "    .dataframe thead th {\n",
       "        text-align: right;\n",
       "    }\n",
       "</style>\n",
       "<table border=\"1\" class=\"dataframe\">\n",
       "  <thead>\n",
       "    <tr style=\"text-align: right;\">\n",
       "      <th></th>\n",
       "      <th>checkpoint</th>\n",
       "      <th>threshold</th>\n",
       "      <th>roc_auc</th>\n",
       "      <th>pr_auc</th>\n",
       "      <th>f1</th>\n",
       "      <th>acc</th>\n",
       "    </tr>\n",
       "  </thead>\n",
       "  <tbody>\n",
       "    <tr>\n",
       "      <th>0</th>\n",
       "      <td>Autoencoder_MSEandGradientfp16.pth</td>\n",
       "      <td>0.082814</td>\n",
       "      <td>0.559424</td>\n",
       "      <td>0.699810</td>\n",
       "      <td>0.124144</td>\n",
       "      <td>0.360333</td>\n",
       "    </tr>\n",
       "    <tr>\n",
       "      <th>1</th>\n",
       "      <td>Autoencoder_MSEfp16.pth</td>\n",
       "      <td>0.083250</td>\n",
       "      <td>0.543121</td>\n",
       "      <td>0.691362</td>\n",
       "      <td>0.120769</td>\n",
       "      <td>0.359333</td>\n",
       "    </tr>\n",
       "    <tr>\n",
       "      <th>2</th>\n",
       "      <td>CAE_MSEandGradientfp16.pth</td>\n",
       "      <td>0.019127</td>\n",
       "      <td>0.400745</td>\n",
       "      <td>0.618889</td>\n",
       "      <td>0.115665</td>\n",
       "      <td>0.352667</td>\n",
       "    </tr>\n",
       "    <tr>\n",
       "      <th>3</th>\n",
       "      <td>CAE_MSEfp16.pth</td>\n",
       "      <td>0.019510</td>\n",
       "      <td>0.401724</td>\n",
       "      <td>0.616580</td>\n",
       "      <td>0.115665</td>\n",
       "      <td>0.352667</td>\n",
       "    </tr>\n",
       "    <tr>\n",
       "      <th>4</th>\n",
       "      <td>CVAE_MSEandGradientfp16.pth</td>\n",
       "      <td>0.122798</td>\n",
       "      <td>0.521094</td>\n",
       "      <td>0.664488</td>\n",
       "      <td>0.054337</td>\n",
       "      <td>0.338667</td>\n",
       "    </tr>\n",
       "    <tr>\n",
       "      <th>5</th>\n",
       "      <td>CVAE_MSEfp16.pth</td>\n",
       "      <td>0.125276</td>\n",
       "      <td>0.518763</td>\n",
       "      <td>0.663091</td>\n",
       "      <td>0.046980</td>\n",
       "      <td>0.337333</td>\n",
       "    </tr>\n",
       "    <tr>\n",
       "      <th>6</th>\n",
       "      <td>DeepCAE_MSEandGradientfp16.pth</td>\n",
       "      <td>0.078911</td>\n",
       "      <td>0.518472</td>\n",
       "      <td>0.655431</td>\n",
       "      <td>0.063089</td>\n",
       "      <td>0.336667</td>\n",
       "    </tr>\n",
       "    <tr>\n",
       "      <th>7</th>\n",
       "      <td>DeepCAE_MSEfp16.pth</td>\n",
       "      <td>0.054190</td>\n",
       "      <td>0.426635</td>\n",
       "      <td>0.612067</td>\n",
       "      <td>0.048479</td>\n",
       "      <td>0.332667</td>\n",
       "    </tr>\n",
       "    <tr>\n",
       "      <th>8</th>\n",
       "      <td>DeepCVAE_MSEandGradientfp16.pth</td>\n",
       "      <td>0.121536</td>\n",
       "      <td>0.520331</td>\n",
       "      <td>0.663893</td>\n",
       "      <td>0.040462</td>\n",
       "      <td>0.336000</td>\n",
       "    </tr>\n",
       "    <tr>\n",
       "      <th>9</th>\n",
       "      <td>DeepCVAE_MSEfp16.pth</td>\n",
       "      <td>0.119235</td>\n",
       "      <td>0.522489</td>\n",
       "      <td>0.666580</td>\n",
       "      <td>0.051650</td>\n",
       "      <td>0.339000</td>\n",
       "    </tr>\n",
       "    <tr>\n",
       "      <th>10</th>\n",
       "      <td>DeepVAE_MSEandGradientfp16.pth</td>\n",
       "      <td>0.118487</td>\n",
       "      <td>0.519886</td>\n",
       "      <td>0.665114</td>\n",
       "      <td>0.054363</td>\n",
       "      <td>0.339000</td>\n",
       "    </tr>\n",
       "    <tr>\n",
       "      <th>11</th>\n",
       "      <td>DeepVAE_MSEfp16.pth</td>\n",
       "      <td>0.117721</td>\n",
       "      <td>0.518459</td>\n",
       "      <td>0.664095</td>\n",
       "      <td>0.053435</td>\n",
       "      <td>0.338667</td>\n",
       "    </tr>\n",
       "    <tr>\n",
       "      <th>12</th>\n",
       "      <td>DenoisingAutoencoder_MSEandGradientfp16.pth</td>\n",
       "      <td>0.015391</td>\n",
       "      <td>0.439283</td>\n",
       "      <td>0.641898</td>\n",
       "      <td>0.130258</td>\n",
       "      <td>0.359000</td>\n",
       "    </tr>\n",
       "    <tr>\n",
       "      <th>13</th>\n",
       "      <td>DenoisingAutoencoder_MSEfp16.pth</td>\n",
       "      <td>0.015522</td>\n",
       "      <td>0.433000</td>\n",
       "      <td>0.638494</td>\n",
       "      <td>0.117701</td>\n",
       "      <td>0.355333</td>\n",
       "    </tr>\n",
       "    <tr>\n",
       "      <th>14</th>\n",
       "      <td>DiffusionUNet_MSEandGradientfp16.pth</td>\n",
       "      <td>0.035441</td>\n",
       "      <td>0.425142</td>\n",
       "      <td>0.599863</td>\n",
       "      <td>0.025084</td>\n",
       "      <td>0.326333</td>\n",
       "    </tr>\n",
       "    <tr>\n",
       "      <th>15</th>\n",
       "      <td>DiffusionUNet_MSEfp16.pth</td>\n",
       "      <td>0.053207</td>\n",
       "      <td>0.456879</td>\n",
       "      <td>0.609738</td>\n",
       "      <td>0.027911</td>\n",
       "      <td>0.326667</td>\n",
       "    </tr>\n",
       "    <tr>\n",
       "      <th>16</th>\n",
       "      <td>GANomaly_MSEandGradientfp16.pth</td>\n",
       "      <td>0.033556</td>\n",
       "      <td>0.360224</td>\n",
       "      <td>0.589344</td>\n",
       "      <td>0.079143</td>\n",
       "      <td>0.340667</td>\n",
       "    </tr>\n",
       "    <tr>\n",
       "      <th>17</th>\n",
       "      <td>GANomaly_MSEfp16.pth</td>\n",
       "      <td>0.034596</td>\n",
       "      <td>0.383263</td>\n",
       "      <td>0.592662</td>\n",
       "      <td>0.057711</td>\n",
       "      <td>0.336000</td>\n",
       "    </tr>\n",
       "    <tr>\n",
       "      <th>18</th>\n",
       "      <td>HybridCAE_MSEandGradientfp16.pth</td>\n",
       "      <td>0.116778</td>\n",
       "      <td>0.516247</td>\n",
       "      <td>0.663501</td>\n",
       "      <td>0.057197</td>\n",
       "      <td>0.340667</td>\n",
       "    </tr>\n",
       "    <tr>\n",
       "      <th>19</th>\n",
       "      <td>HybridCAE_MSEfp16.pth</td>\n",
       "      <td>0.071661</td>\n",
       "      <td>0.547481</td>\n",
       "      <td>0.694973</td>\n",
       "      <td>0.135025</td>\n",
       "      <td>0.363667</td>\n",
       "    </tr>\n",
       "    <tr>\n",
       "      <th>20</th>\n",
       "      <td>RobustAutoencoder_MSEandGradientfp16.pth</td>\n",
       "      <td>0.067679</td>\n",
       "      <td>0.588475</td>\n",
       "      <td>0.727306</td>\n",
       "      <td>0.181095</td>\n",
       "      <td>0.382000</td>\n",
       "    </tr>\n",
       "    <tr>\n",
       "      <th>21</th>\n",
       "      <td>RobustAutoencoder_MSEfp16.pth</td>\n",
       "      <td>0.073194</td>\n",
       "      <td>0.582993</td>\n",
       "      <td>0.723407</td>\n",
       "      <td>0.155996</td>\n",
       "      <td>0.376000</td>\n",
       "    </tr>\n",
       "    <tr>\n",
       "      <th>22</th>\n",
       "      <td>SimpleDDPM_MSEandGradientfp16.pth</td>\n",
       "      <td>0.599578</td>\n",
       "      <td>0.496600</td>\n",
       "      <td>0.652893</td>\n",
       "      <td>0.062235</td>\n",
       "      <td>0.337000</td>\n",
       "    </tr>\n",
       "    <tr>\n",
       "      <th>23</th>\n",
       "      <td>SimpleDDPM_MSEfp16.pth</td>\n",
       "      <td>0.582102</td>\n",
       "      <td>0.500490</td>\n",
       "      <td>0.668099</td>\n",
       "      <td>0.082629</td>\n",
       "      <td>0.348667</td>\n",
       "    </tr>\n",
       "    <tr>\n",
       "      <th>24</th>\n",
       "      <td>SkipConnectionAutoencoder_MSEandGradientfp16.pth</td>\n",
       "      <td>0.003627</td>\n",
       "      <td>0.422657</td>\n",
       "      <td>0.629823</td>\n",
       "      <td>0.122393</td>\n",
       "      <td>0.354667</td>\n",
       "    </tr>\n",
       "    <tr>\n",
       "      <th>25</th>\n",
       "      <td>SkipConnectionAutoencoder_MSEfp16.pth</td>\n",
       "      <td>0.005720</td>\n",
       "      <td>0.427986</td>\n",
       "      <td>0.628582</td>\n",
       "      <td>0.103670</td>\n",
       "      <td>0.348667</td>\n",
       "    </tr>\n",
       "    <tr>\n",
       "      <th>26</th>\n",
       "      <td>TransformerAnomalyDetector_MSEandGradientfp16.pth</td>\n",
       "      <td>0.459541</td>\n",
       "      <td>0.494583</td>\n",
       "      <td>0.642837</td>\n",
       "      <td>0.035526</td>\n",
       "      <td>0.330333</td>\n",
       "    </tr>\n",
       "    <tr>\n",
       "      <th>27</th>\n",
       "      <td>TransformerAnomalyDetector_MSEfp16.pth</td>\n",
       "      <td>0.486087</td>\n",
       "      <td>0.493171</td>\n",
       "      <td>0.642232</td>\n",
       "      <td>0.036416</td>\n",
       "      <td>0.329667</td>\n",
       "    </tr>\n",
       "    <tr>\n",
       "      <th>28</th>\n",
       "      <td>VAE_MSEandGradientfp16.pth</td>\n",
       "      <td>0.120624</td>\n",
       "      <td>0.521499</td>\n",
       "      <td>0.669727</td>\n",
       "      <td>0.057307</td>\n",
       "      <td>0.342000</td>\n",
       "    </tr>\n",
       "    <tr>\n",
       "      <th>29</th>\n",
       "      <td>VAE_MSEfp16.pth</td>\n",
       "      <td>0.123544</td>\n",
       "      <td>0.512404</td>\n",
       "      <td>0.667937</td>\n",
       "      <td>0.060143</td>\n",
       "      <td>0.343667</td>\n",
       "    </tr>\n",
       "  </tbody>\n",
       "</table>\n",
       "</div>"
      ],
      "text/plain": [
       "                                           checkpoint  threshold   roc_auc  \\\n",
       "0                  Autoencoder_MSEandGradientfp16.pth   0.082814  0.559424   \n",
       "1                             Autoencoder_MSEfp16.pth   0.083250  0.543121   \n",
       "2                          CAE_MSEandGradientfp16.pth   0.019127  0.400745   \n",
       "3                                     CAE_MSEfp16.pth   0.019510  0.401724   \n",
       "4                         CVAE_MSEandGradientfp16.pth   0.122798  0.521094   \n",
       "5                                    CVAE_MSEfp16.pth   0.125276  0.518763   \n",
       "6                      DeepCAE_MSEandGradientfp16.pth   0.078911  0.518472   \n",
       "7                                 DeepCAE_MSEfp16.pth   0.054190  0.426635   \n",
       "8                     DeepCVAE_MSEandGradientfp16.pth   0.121536  0.520331   \n",
       "9                                DeepCVAE_MSEfp16.pth   0.119235  0.522489   \n",
       "10                     DeepVAE_MSEandGradientfp16.pth   0.118487  0.519886   \n",
       "11                                DeepVAE_MSEfp16.pth   0.117721  0.518459   \n",
       "12        DenoisingAutoencoder_MSEandGradientfp16.pth   0.015391  0.439283   \n",
       "13                   DenoisingAutoencoder_MSEfp16.pth   0.015522  0.433000   \n",
       "14               DiffusionUNet_MSEandGradientfp16.pth   0.035441  0.425142   \n",
       "15                          DiffusionUNet_MSEfp16.pth   0.053207  0.456879   \n",
       "16                    GANomaly_MSEandGradientfp16.pth   0.033556  0.360224   \n",
       "17                               GANomaly_MSEfp16.pth   0.034596  0.383263   \n",
       "18                   HybridCAE_MSEandGradientfp16.pth   0.116778  0.516247   \n",
       "19                              HybridCAE_MSEfp16.pth   0.071661  0.547481   \n",
       "20           RobustAutoencoder_MSEandGradientfp16.pth   0.067679  0.588475   \n",
       "21                      RobustAutoencoder_MSEfp16.pth   0.073194  0.582993   \n",
       "22                  SimpleDDPM_MSEandGradientfp16.pth   0.599578  0.496600   \n",
       "23                             SimpleDDPM_MSEfp16.pth   0.582102  0.500490   \n",
       "24   SkipConnectionAutoencoder_MSEandGradientfp16.pth   0.003627  0.422657   \n",
       "25              SkipConnectionAutoencoder_MSEfp16.pth   0.005720  0.427986   \n",
       "26  TransformerAnomalyDetector_MSEandGradientfp16.pth   0.459541  0.494583   \n",
       "27             TransformerAnomalyDetector_MSEfp16.pth   0.486087  0.493171   \n",
       "28                         VAE_MSEandGradientfp16.pth   0.120624  0.521499   \n",
       "29                                    VAE_MSEfp16.pth   0.123544  0.512404   \n",
       "\n",
       "      pr_auc        f1       acc  \n",
       "0   0.699810  0.124144  0.360333  \n",
       "1   0.691362  0.120769  0.359333  \n",
       "2   0.618889  0.115665  0.352667  \n",
       "3   0.616580  0.115665  0.352667  \n",
       "4   0.664488  0.054337  0.338667  \n",
       "5   0.663091  0.046980  0.337333  \n",
       "6   0.655431  0.063089  0.336667  \n",
       "7   0.612067  0.048479  0.332667  \n",
       "8   0.663893  0.040462  0.336000  \n",
       "9   0.666580  0.051650  0.339000  \n",
       "10  0.665114  0.054363  0.339000  \n",
       "11  0.664095  0.053435  0.338667  \n",
       "12  0.641898  0.130258  0.359000  \n",
       "13  0.638494  0.117701  0.355333  \n",
       "14  0.599863  0.025084  0.326333  \n",
       "15  0.609738  0.027911  0.326667  \n",
       "16  0.589344  0.079143  0.340667  \n",
       "17  0.592662  0.057711  0.336000  \n",
       "18  0.663501  0.057197  0.340667  \n",
       "19  0.694973  0.135025  0.363667  \n",
       "20  0.727306  0.181095  0.382000  \n",
       "21  0.723407  0.155996  0.376000  \n",
       "22  0.652893  0.062235  0.337000  \n",
       "23  0.668099  0.082629  0.348667  \n",
       "24  0.629823  0.122393  0.354667  \n",
       "25  0.628582  0.103670  0.348667  \n",
       "26  0.642837  0.035526  0.330333  \n",
       "27  0.642232  0.036416  0.329667  \n",
       "28  0.669727  0.057307  0.342000  \n",
       "29  0.667937  0.060143  0.343667  "
      ]
     },
     "execution_count": 19,
     "metadata": {},
     "output_type": "execute_result"
    }
   ],
   "source": [
    "eval_results"
   ]
  }
 ],
 "metadata": {
  "kernelspec": {
   "display_name": "venv",
   "language": "python",
   "name": "python3"
  },
  "language_info": {
   "codemirror_mode": {
    "name": "ipython",
    "version": 3
   },
   "file_extension": ".py",
   "mimetype": "text/x-python",
   "name": "python",
   "nbconvert_exporter": "python",
   "pygments_lexer": "ipython3",
   "version": "3.11.9"
  }
 },
 "nbformat": 4,
 "nbformat_minor": 2
}
