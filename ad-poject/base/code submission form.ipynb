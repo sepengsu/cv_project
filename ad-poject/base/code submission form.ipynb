{
 "cells": [
  {
   "cell_type": "markdown",
   "id": "f14952bb-7383-4f48-806a-1c186903babd",
   "metadata": {},
   "source": [
    "# Code submission form\n",
    "모델 코드(.ipynb) 와 훈련된 weight(.pt/.pth)를 i-campus에 제출해야 합니다. 모델 코드(.ipynb)는 jupyter notebook 기반으로 빌드해야 하며, 제공되는 submission form에 맞추어서 제출해야 합니다"
   ]
  },
  {
   "cell_type": "markdown",
   "id": "54ced4b0-b291-4501-a816-adcdce4a7ec6",
   "metadata": {},
   "source": [
    "### Basic information\n",
    "##### 팀 번호와 팀 구성원 이름을 적어주세요.\n",
    "> 팀 번호<br>\n",
    "이름 (학번)<br> 이름 (학번)<br> "
   ]
  },
  {
   "cell_type": "markdown",
   "id": "628c953e-911d-412a-995d-156c2698e222",
   "metadata": {},
   "source": [
    "<span style=\"color:blue\"> **** should be filled here **** </span>\n",
    "*****************************************************************"
   ]
  },
  {
   "cell_type": "markdown",
   "id": "cf6825cc-e9f0-419b-84f2-ee7e1d52d58d",
   "metadata": {},
   "source": []
  },
  {
   "cell_type": "markdown",
   "id": "8a9699df-c179-4af0-a89f-cb9a6d14e92b",
   "metadata": {},
   "source": [
    "*****************************************************************"
   ]
  },
  {
   "cell_type": "markdown",
   "id": "9eeac210-bcdd-48aa-9216-373cea048dd5",
   "metadata": {},
   "source": [
    "### Inference 코드\n",
    "빌드한 코드를 여기에 적어주세요. <br>\n",
    "훈련된 weight(.pt/.pth)파일을 불러오고 오류 없이 작동되야 합니다.<br>\n",
    "https://pytorch.org/tutorials/beginner/basics/saveloadrun_tutorial.html"
   ]
  },
  {
   "cell_type": "markdown",
   "id": "f0bb1c93-48bc-4cfa-b3e4-e0a9c00c36f5",
   "metadata": {},
   "source": [
    "<span style=\"color:blue\"> **** should be filled here **** </span>\n",
    "*****************************************************************"
   ]
  },
  {
   "cell_type": "code",
   "execution_count": null,
   "id": "6530232b-be16-46bc-9270-87544051890e",
   "metadata": {},
   "outputs": [],
   "source": []
  },
  {
   "cell_type": "code",
   "execution_count": null,
   "id": "1e27ce30-dae3-4b66-8595-89b09cd56eac",
   "metadata": {},
   "outputs": [],
   "source": []
  },
  {
   "cell_type": "code",
   "execution_count": null,
   "id": "6b5c6807-b478-4174-9d60-a78132c85306",
   "metadata": {},
   "outputs": [],
   "source": []
  },
  {
   "cell_type": "code",
   "execution_count": null,
   "id": "9f66acf3-e359-4da9-8e1f-151efe759cb8",
   "metadata": {},
   "outputs": [],
   "source": []
  },
  {
   "cell_type": "code",
   "execution_count": null,
   "id": "e56d116c-1f5d-4126-81ff-0a8c9d4115c6",
   "metadata": {},
   "outputs": [],
   "source": []
  },
  {
   "cell_type": "code",
   "execution_count": null,
   "id": "823b9529-e4a7-41b5-b2a7-7290543604e2",
   "metadata": {},
   "outputs": [],
   "source": []
  },
  {
   "cell_type": "code",
   "execution_count": null,
   "id": "b81f3312-8656-45c5-9d0f-4f5fb1dad7fa",
   "metadata": {},
   "outputs": [],
   "source": []
  },
  {
   "cell_type": "markdown",
   "id": "21385408-c713-44bb-b21b-8252af26bf34",
   "metadata": {},
   "source": [
    "*****************************************************************"
   ]
  },
  {
   "cell_type": "markdown",
   "id": "6589de2d-3243-4fb0-9cf7-6d6dac975069",
   "metadata": {},
   "source": [
    "### 그래프 생성\n",
    "리포트에 생성된 그래프(e. g., AUROC)등을 제작하는 코드를 여기에 적어주세요. AUROC의 경우 그래프와 값이 출력되야 합니다.<br>\n",
    "AUROC 제작 코드는 하단 링크를 참고 해주세요.<br>\n",
    "https://scikit-learn.org/stable/modules/classes.html#module-sklearn.metrics <br>\n",
    "예시: <br>\n",
    "![auroc](example/example_auroc.png)<br>\n",
    "auroc=0.884545"
   ]
  },
  {
   "cell_type": "markdown",
   "id": "193e102b-6a41-4076-a4aa-da29b18815b9",
   "metadata": {},
   "source": [
    "<span style=\"color:blue\"> **** should be filled here **** </span>\n",
    "*****************************************************************"
   ]
  },
  {
   "cell_type": "code",
   "execution_count": null,
   "id": "e49b5fd6-18be-40d0-9596-a2174db51d48",
   "metadata": {},
   "outputs": [],
   "source": []
  },
  {
   "cell_type": "markdown",
   "id": "b7abac93-924f-4165-9f1e-f6bf86d7c8a1",
   "metadata": {},
   "source": [
    "*****************************************************************"
   ]
  },
  {
   "cell_type": "markdown",
   "id": "e2d63539-7970-4690-89db-5b8894b4cc46",
   "metadata": {},
   "source": [
    "### Dataframe 생성\n",
    "kaggle에 제출한 dataframe(.csv)을 제작하는 코드를 적어주세요. <br>\n",
    "kaggle에 제출한 dataframe(.csv)파일과 정확도가 동일해야 합니다. <br>\n",
    "https://pandas.pydata.org/pandas-docs/stable/reference/api/pandas.DataFrame.to_csv.html"
   ]
  },
  {
   "cell_type": "markdown",
   "id": "9b02494e-54e3-4df7-a6d8-1812cdccd5e6",
   "metadata": {},
   "source": [
    "<span style=\"color:blue\"> **** should be filled here **** </span>\n",
    "*****************************************************************"
   ]
  },
  {
   "cell_type": "code",
   "execution_count": null,
   "id": "288010a1-39a0-43da-a7a3-c5796287ad9c",
   "metadata": {},
   "outputs": [],
   "source": []
  },
  {
   "cell_type": "markdown",
   "id": "efbc6c6a-1a77-4644-837c-cfcd0d95d5cf",
   "metadata": {},
   "source": [
    "*****************************************************************"
   ]
  }
 ],
 "metadata": {
  "kernelspec": {
   "display_name": "Python 3 (ipykernel)",
   "language": "python",
   "name": "python3"
  },
  "language_info": {
   "codemirror_mode": {
    "name": "ipython",
    "version": 3
   },
   "file_extension": ".py",
   "mimetype": "text/x-python",
   "name": "python",
   "nbconvert_exporter": "python",
   "pygments_lexer": "ipython3",
   "version": "3.9.12"
  }
 },
 "nbformat": 4,
 "nbformat_minor": 5
}
