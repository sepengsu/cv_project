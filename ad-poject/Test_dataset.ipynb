{
 "cells": [
  {
   "cell_type": "code",
   "execution_count": 1,
   "id": "ec022279",
   "metadata": {},
   "outputs": [],
   "source": [
    "# Fashion MNIST dataset\n",
    "import torchvision.transforms as transforms\n",
    "import torch \n",
    "from torchvision import datasets\n",
    "testset = datasets.FashionMNIST(\n",
    "    root      = './.data/', train     = False,\n",
    "    download  = True,\n",
    "    transform = transforms.ToTensor())"
   ]
  },
  {
   "cell_type": "code",
   "execution_count": 2,
   "id": "1138ad3f",
   "metadata": {},
   "outputs": [],
   "source": [
    "test_label = [2,4,6] # Define actual test class that we use\n",
    "actual_testdata = torch.isin(testset.targets, torch.tensor(test_label))\n",
    "testset.data = testset.data[actual_testdata]\n",
    "testset.targets = testset.targets[actual_testdata]"
   ]
  },
  {
   "cell_type": "code",
   "execution_count": 3,
   "id": "800d4e18",
   "metadata": {},
   "outputs": [],
   "source": [
    "import torch\n",
    "import numpy as np\n",
    "import os\n",
    "import cv2\n",
    "\n",
    "class DataExtractor:\n",
    "    def __init__(self, test_dataset):\n",
    "        self.test_dataset = test_dataset\n",
    "\n",
    "    def __call__(self, num_samples=2, save_path=None):\n",
    "        self.num_samples = num_samples\n",
    "        self.output = self.pick_random_samples(num_samples)\n",
    "        self.saver(save_path)\n",
    "\n",
    "    def saver(self, save_path=None):\n",
    "        test2, test4, test6 = self.output\n",
    "\n",
    "        if save_path is None:\n",
    "            save_path = './data/'\n",
    "        os.makedirs(save_path, exist_ok=True)\n",
    "\n",
    "        # ✅ 저장: 정상 (label==2)\n",
    "        for i, data in enumerate(test2):\n",
    "            image = data.view(28, 28).numpy() * 255\n",
    "            image = image.astype(np.uint8)\n",
    "            cv2.imwrite(os.path.join(save_path, f'Normal_{i}.png'), image)\n",
    "\n",
    "        # ✅ 저장: 비정상 (label==4,6)\n",
    "        for cls_idx, data_group in zip([4, 6], [test4, test6]):\n",
    "            for j, data in enumerate(data_group):\n",
    "                image = data.view(28, 28).numpy() * 255\n",
    "                image = image.astype(np.uint8)\n",
    "                cv2.imwrite(os.path.join(save_path, f'Abnormal_{cls_idx}_{j}.png'), image)\n",
    "\n",
    "        print(f\"✅ {self.num_samples} samples per class saved to: {save_path}\")\n",
    "\n",
    "    def pick_random_samples(self, num_samples=2):\n",
    "        # 클래스별 필터링\n",
    "        test_2 = self.test_dataset.data[self.test_dataset.targets == 2]\n",
    "        test_4 = self.test_dataset.data[self.test_dataset.targets == 4]\n",
    "        test_6 = self.test_dataset.data[self.test_dataset.targets == 6]\n",
    "\n",
    "        # 랜덤 셔플\n",
    "        test_2 = test_2[torch.randperm(test_2.size(0))]\n",
    "        test_4 = test_4[torch.randperm(test_4.size(0))]\n",
    "        test_6 = test_6[torch.randperm(test_6.size(0))]\n",
    "\n",
    "        # 정규화 및 벡터화 (28x28 → 784)\n",
    "        data_test_2 = test_2.view(test_2.size(0), -1).float() / 255.0\n",
    "        data_test_4 = test_4.view(test_4.size(0), -1).float() / 255.0\n",
    "        data_test_6 = test_6.view(test_6.size(0), -1).float() / 255.0\n",
    "\n",
    "        # 앞에서 n개만 선택\n",
    "        return [\n",
    "            data_test_2[:num_samples],\n",
    "            data_test_4[:num_samples],\n",
    "            data_test_6[:num_samples]\n",
    "        ]"
   ]
  },
  {
   "cell_type": "code",
   "execution_count": 4,
   "id": "d7168f51",
   "metadata": {},
   "outputs": [
    {
     "name": "stdout",
     "output_type": "stream",
     "text": [
      "✅ 2 samples per class saved to: ./eval/test_images\n"
     ]
    }
   ],
   "source": [
    "save_path = './eval/test_images'\n",
    "os.makedirs(save_path, exist_ok=True) # 폴더 생성\n",
    "data_extractor = DataExtractor(testset) # 데이터 추출기 생성\n",
    "data_extractor(num_samples=2, save_path=save_path) # 데이터 추출"
   ]
  }
 ],
 "metadata": {
  "kernelspec": {
   "display_name": "venv",
   "language": "python",
   "name": "python3"
  },
  "language_info": {
   "codemirror_mode": {
    "name": "ipython",
    "version": 3
   },
   "file_extension": ".py",
   "mimetype": "text/x-python",
   "name": "python",
   "nbconvert_exporter": "python",
   "pygments_lexer": "ipython3",
   "version": "3.11.9"
  }
 },
 "nbformat": 4,
 "nbformat_minor": 5
}
