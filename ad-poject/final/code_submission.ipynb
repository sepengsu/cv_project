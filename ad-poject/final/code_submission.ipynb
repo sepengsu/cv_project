{
 "cells": [
  {
   "cell_type": "markdown",
   "id": "f14952bb-7383-4f48-806a-1c186903babd",
   "metadata": {},
   "source": [
    "# Code submission form\n",
    "모델 코드(.ipynb) 와 훈련된 weight(.pt/.pth)를 i-campus에 제출해야 합니다. 모델 코드(.ipynb)는 jupyter notebook 기반으로 빌드해야 하며, 제공되는 submission form에 맞추어서 제출해야 합니다"
   ]
  },
  {
   "cell_type": "markdown",
   "id": "54ced4b0-b291-4501-a816-adcdce4a7ec6",
   "metadata": {},
   "source": [
    "### Basic information\n",
    "##### 팀 번호와 팀 구성원 이름을 적어주세요.\n",
    "> 팀 번호<br>\n",
    "이름 (학번)<br> 이름 (학번)<br> "
   ]
  },
  {
   "cell_type": "markdown",
   "id": "628c953e-911d-412a-995d-156c2698e222",
   "metadata": {},
   "source": [
    "<span style=\"color:blue\"> **** should be filled here **** </span>\n",
    "*****************************************************************"
   ]
  },
  {
   "cell_type": "markdown",
   "id": "cf6825cc-e9f0-419b-84f2-ee7e1d52d58d",
   "metadata": {},
   "source": [
    "Team 8\n",
    "\n",
    "서재원(2019314991)\n",
    "\n",
    "송채헌(~~~)\n",
    "\n",
    "이지수(~~~)"
   ]
  },
  {
   "cell_type": "markdown",
   "id": "8a9699df-c179-4af0-a89f-cb9a6d14e92b",
   "metadata": {},
   "source": [
    "*****************************************************************"
   ]
  },
  {
   "cell_type": "markdown",
   "id": "9eeac210-bcdd-48aa-9216-373cea048dd5",
   "metadata": {},
   "source": [
    "### Inference 코드\n",
    "빌드한 코드를 여기에 적어주세요. <br>\n",
    "훈련된 weight(.pt/.pth)파일을 불러오고 오류 없이 작동되야 합니다.<br>\n",
    "https://pytorch.org/tutorials/beginner/basics/saveloadrun_tutorial.html"
   ]
  },
  {
   "cell_type": "markdown",
   "id": "f0bb1c93-48bc-4cfa-b3e4-e0a9c00c36f5",
   "metadata": {},
   "source": [
    "<span style=\"color:blue\"> **** should be filled here **** </span>\n",
    "*****************************************************************"
   ]
  },
  {
   "cell_type": "code",
   "execution_count": 31,
   "id": "bea25569",
   "metadata": {},
   "outputs": [],
   "source": [
    "import torchvision.transforms as transforms\n",
    "import torch, random, math, numpy as np \n",
    "from torchvision import datasets\n",
    "import torch.nn as nn\n",
    "import torch.nn.functional as F\n",
    "import matplotlib.pyplot as plt\n",
    "from sklearn.metrics import roc_curve, auc\n",
    "import pandas as pd\n",
    "def set_seed(seed):\n",
    "    \"\"\"Set the seed for reproducibility.\"\"\"\n",
    "    random.seed(seed)\n",
    "    np.random.seed(seed)\n",
    "    torch.manual_seed(seed)\n",
    "    torch.cuda.manual_seed_all(seed)\n",
    "\n",
    "set_seed(2025)\n",
    "DEVICE = torch.device(\"cuda\" if torch.cuda.is_available() else \"cpu\")"
   ]
  },
  {
   "cell_type": "code",
   "execution_count": 32,
   "id": "53fb05d9",
   "metadata": {},
   "outputs": [],
   "source": [
    "# 1. Trainset\n",
    "# FashionMNIST only 2nd class (T-shirt/top)\n",
    "trainset = datasets.FashionMNIST(\n",
    "    root      = './.data/', train = True,\n",
    "    download  = True,\n",
    "    transform = transforms.ToTensor(),\n",
    "    )\n",
    "trainset.data = trainset.data[trainset.targets == 2]\n",
    "trainset.targets = trainset.targets[trainset.targets == 2]\n",
    "train_loader = torch.utils.data.DataLoader(\n",
    "    dataset     = trainset,\n",
    "    batch_size  = 1,\n",
    "    shuffle     = True,\n",
    "    num_workers = 2\n",
    ")\n",
    "\n",
    "# 2. Testset\n",
    "# FashionMNIST only 2nd, 4th and 6th class (T-shirt/top, coat, shirt)\n",
    "testset = datasets.FashionMNIST(\n",
    "    root      = './.data/', train     = False,\n",
    "    download  = True,\n",
    "    transform = transforms.ToTensor(),\n",
    "    )\n",
    "\n",
    "test_label = [2,4,6] # Define actual test class that we use\n",
    "actual_testdata = torch.isin(testset.targets, torch.tensor(test_label))\n",
    "testset.data = testset.data[actual_testdata]\n",
    "testset.targets = testset.targets[actual_testdata]\n",
    "\n",
    "test_loader = torch.utils.data.DataLoader(\n",
    "    dataset     = testset,\n",
    "    batch_size  = 1,\n",
    "    shuffle     = False,\n",
    "    num_workers = 2\n",
    ")"
   ]
  },
  {
   "cell_type": "code",
   "execution_count": 33,
   "id": "24f5f004",
   "metadata": {},
   "outputs": [],
   "source": [
    "# SSIM, MS-SSIM, Charbonnier, Gradient, TV loss with autograd-safe NaN fallback\n",
    "import torch\n",
    "import torch.nn as nn\n",
    "import torch.nn.functional as F\n",
    "import math\n",
    "import numpy as np\n",
    "\n",
    "# ------------------------\n",
    "# Gaussian Window (for SSIM)\n",
    "# ------------------------\n",
    "def gaussian(window_size, sigma):\n",
    "    gauss = torch.Tensor([\n",
    "        math.exp(-(x - window_size//2)**2 / float(2*sigma**2))\n",
    "        for x in range(window_size)\n",
    "    ])\n",
    "    return gauss / gauss.sum()\n",
    "\n",
    "def create_window(window_size, channel):\n",
    "    _1D_window = gaussian(window_size, 1.5).unsqueeze(1)\n",
    "    _2D_window = _1D_window.mm(_1D_window.t()).float()\n",
    "    window = _2D_window.unsqueeze(0).unsqueeze(0)\n",
    "    return window.expand(channel, 1, window_size, window_size).contiguous()\n",
    "\n",
    "# ------------------------\n",
    "# SSIM Loss (autograd-safe NaN fallback)\n",
    "# ------------------------\n",
    "def ssim_loss(img1, img2, window_size=11, eps=1e-8):\n",
    "    B, C, H, W = img1.size()\n",
    "    window = create_window(window_size, C).to(img1.device)\n",
    "\n",
    "    mu1 = F.conv2d(img1, window, padding=window_size//2, groups=C)\n",
    "    mu2 = F.conv2d(img2, window, padding=window_size//2, groups=C)\n",
    "    mu1_sq, mu2_sq, mu1_mu2 = mu1**2, mu2**2, mu1 * mu2\n",
    "\n",
    "    sigma1_sq = F.conv2d(img1 * img1, window, padding=window_size//2, groups=C) - mu1_sq\n",
    "    sigma2_sq = F.conv2d(img2 * img2, window, padding=window_size//2, groups=C) - mu2_sq\n",
    "    sigma12 = F.conv2d(img1 * img2, window, padding=window_size//2, groups=C) - mu1_mu2\n",
    "\n",
    "    C1 = 0.01**2\n",
    "    C2 = 0.03**2\n",
    "\n",
    "    numerator = (2 * mu1_mu2 + C1) * (2 * sigma12 + C2)\n",
    "    denominator = (mu1_sq + mu2_sq + C1) * (sigma1_sq + sigma2_sq + C2)\n",
    "\n",
    "    if torch.isnan(denominator).any():\n",
    "        return torch.tensor(np.inf).to(img1.device)\n",
    "    ssim_map = numerator / (denominator + eps)\n",
    "    return 1 - ssim_map.mean() # Mean SSIM\n",
    "\n",
    "# ------------------------\n",
    "# MS-SSIM Loss (autograd-safe NaN fallback)\n",
    "# ------------------------\n",
    "def ms_ssim_loss(img1, img2, levels=3):\n",
    "    weights = [0.5, 0.3, 0.2]\n",
    "    loss = 0.0\n",
    "    for l in range(levels):\n",
    "        ssim_val = ssim_loss(img1, img2)\n",
    "        if torch.isnan(ssim_val) or torch.isinf(ssim_val):\n",
    "            return torch.tensor(np.inf).to(img1.device)\n",
    "        loss += weights[l] * ssim_val\n",
    "        img1 = F.avg_pool2d(img1, kernel_size=2)\n",
    "        img2 = F.avg_pool2d(img2, kernel_size=2)\n",
    "    return loss\n",
    "\n",
    "# ------------------------\n",
    "# Charbonnier Loss\n",
    "# ------------------------\n",
    "def charbonnier_loss(x, y, epsilon=1e-3):\n",
    "    return torch.mean(torch.sqrt((x - y) ** 2 + epsilon ** 2))\n",
    "\n",
    "# ------------------------\n",
    "# Gradient Loss\n",
    "# ------------------------\n",
    "def gradient_loss(x, y):\n",
    "    def gradient(img):\n",
    "        dy = torch.abs(img[:, :, 1:, :] - img[:, :, :-1, :])\n",
    "        dx = torch.abs(img[:, :, :, 1:] - img[:, :, :, :-1])\n",
    "        return dx, dy\n",
    "\n",
    "    dx1, dy1 = gradient(x)\n",
    "    dx2, dy2 = gradient(y)\n",
    "    return torch.mean(torch.abs(dx1 - dx2)) + torch.mean(torch.abs(dy1 - dy2))\n",
    "\n",
    "# ------------------------\n",
    "# Total Variation (TV) Loss\n",
    "# ------------------------\n",
    "def tv_loss(x):\n",
    "    loss = torch.mean(torch.abs(x[:, :, :, :-1] - x[:, :, :, 1:])) + \\\n",
    "           torch.mean(torch.abs(x[:, :, :-1, :] - x[:, :, 1:, :]))\n",
    "    return loss\n",
    "\n",
    "# ------------------------\n",
    "# laplacian edge loss\n",
    "# ------------------------\n",
    "def laplacian_edge_loss(x, y):\n",
    "    \"\"\"\n",
    "    Laplacian edge-based loss (no reduction).\n",
    "    Returns: (B, C, H, W) loss tensor → reduction은 외부에서 수행\n",
    "    \"\"\"\n",
    "    B, C, H, W = x.shape\n",
    "\n",
    "    kernel = torch.tensor([[0, 1, 0],\n",
    "                           [1, -4, 1],\n",
    "                           [0, 1, 0]], dtype=torch.float32, device=x.device).view(1, 1, 3, 3).repeat(C, 1, 1, 1)\n",
    "\n",
    "    x_edge = F.conv2d(x, kernel, padding=1, groups=C)\n",
    "    y_edge = F.conv2d(y, kernel, padding=1, groups=C)\n",
    "\n",
    "    loss = torch.abs(x_edge - y_edge)  # (B, C, H, W)\n",
    "    return loss\n"
   ]
  },
  {
   "cell_type": "code",
   "execution_count": 34,
   "id": "b21f9775",
   "metadata": {},
   "outputs": [],
   "source": [
    "# 3.2. custom loss function class\n",
    "class FlexibleLoss(nn.Module):\n",
    "    def __init__(self, mode='mse', loss_weights=None, reduction='mean'):\n",
    "        super().__init__()\n",
    "        self.modes = mode.lower().split('+')\n",
    "        self.reduction = reduction\n",
    "        self.base_weights = loss_weights if loss_weights else {m: 1.0 for m in self.modes}\n",
    "\n",
    "    def reduce(self, x):\n",
    "        if x is None:\n",
    "            return None\n",
    "        if not torch.isfinite(x).all():\n",
    "            # print(f\"[⚠️ warning] Loss contains NaN or Inf → Skipping this component\")\n",
    "            return None\n",
    "        if self.reduction == 'none':\n",
    "            return x\n",
    "        elif self.reduction == 'mean':\n",
    "            return x.mean()\n",
    "        elif self.reduction == 'sum':\n",
    "            return x.sum()\n",
    "\n",
    "    def forward(self, x, y):\n",
    "        valid_losses = {}\n",
    "        active_weights = {}\n",
    "\n",
    "        for m in self.modes:\n",
    "            w = self.base_weights.get(m, 1.0)\n",
    "            if w == 0:\n",
    "                continue\n",
    "            try:\n",
    "                if m == 'mse':\n",
    "                    raw = F.mse_loss(x, y, reduction='none')\n",
    "                    loss = self.reduce(raw)\n",
    "                elif m == 'charbonnier':\n",
    "                    raw = charbonnier_loss(x, y)\n",
    "                    loss = self.reduce(raw)\n",
    "                elif m == 'ssim':\n",
    "                    raw = ssim_loss(x, y)\n",
    "                    loss = self.reduce(raw)\n",
    "                elif m == 'ms-ssim':\n",
    "                    raw = ms_ssim_loss(x, y)\n",
    "                    loss = self.reduce(raw)\n",
    "                elif m == 'gradient':\n",
    "                    raw = gradient_loss(x, y)\n",
    "                    loss = self.reduce(raw)\n",
    "                elif m == 'tv':\n",
    "                    raw = tv_loss(x)\n",
    "                    loss = self.reduce(raw)\n",
    "                elif m =='edge':\n",
    "                    raw = laplacian_edge_loss(x, y)\n",
    "                    loss = self.reduce(raw)\n",
    "                elif m == 'noise':\n",
    "                    continue\n",
    "                else:\n",
    "                    raise ValueError(f\"[FlexibleLoss] Unknown loss type: {m}\")\n",
    "                if loss is not None:\n",
    "                    valid_losses[m] = loss\n",
    "                    active_weights[m] = w\n",
    "            except Exception as e:\n",
    "                print(f\"[⚠️ warning] Loss calculation failed for {m}: {e}\")\n",
    "                continue\n",
    "        total_loss = 0.0\n",
    "        for m, loss in valid_losses.items():\n",
    "            weight = active_weights[m]\n",
    "            total_loss += weight * loss\n",
    "\n",
    "        return total_loss\n"
   ]
  },
  {
   "cell_type": "code",
   "execution_count": 35,
   "id": "f2b0dbb6",
   "metadata": {},
   "outputs": [],
   "source": [
    "loss_fn = FlexibleLoss(\n",
    "        mode=\"mse+gradient+edge\",\n",
    "        loss_weights={\n",
    "            \"mse\": 0.5,\n",
    "            \"gradient\": 0.4,\n",
    "            \"edge\": 0.1\n",
    "        },\n",
    "        reduction=\"none\",\n",
    "    )"
   ]
  },
  {
   "cell_type": "code",
   "execution_count": 36,
   "id": "33e99777",
   "metadata": {},
   "outputs": [
    {
     "data": {
      "text/plain": [
       "'\\n    \"SwinInspiredAE_MSE_MSGrad\": {\\n        \"class\": \"SwinInspiredAutoencoder\",\\n        \"lr\": 0.001,\\n        \"batch_size\": 64,\\n        \"losses\": [\\n            \"mse+ms-ssim+gradient\"\\n        ],\\n        \"loss_weights\": {\\n            \"mse\": 0.3,\\n            \"ms-ssim\": 1.0,\\n            \"gradient\": 0.1\\n        }\\n    }\\n'"
      ]
     },
     "execution_count": 36,
     "metadata": {},
     "output_type": "execute_result"
    }
   ],
   "source": [
    "# 4. custom model class\n",
    "# training 방법: new0417/swin 파일 참고 또한 config는 다음과 같음 \n",
    "# SwinInspiredAE + MSEGrad_mse\n",
    "'''\n",
    "    \"SwinInspiredAE_MSE_MSGrad\": {\n",
    "        \"class\": \"SwinInspiredAutoencoder\",\n",
    "        \"lr\": 0.001,\n",
    "        \"batch_size\": 64,\n",
    "        \"losses\": [\n",
    "            \"mse+ms-ssim+gradient\"\n",
    "        ],\n",
    "        \"loss_weights\": {\n",
    "            \"mse\": 0.3,\n",
    "            \"ms-ssim\": 1.0,\n",
    "            \"gradient\": 0.1\n",
    "        }\n",
    "    }\n",
    "'''"
   ]
  },
  {
   "cell_type": "code",
   "execution_count": 37,
   "id": "7b61ba5b",
   "metadata": {},
   "outputs": [],
   "source": [
    "import torch\n",
    "import torch.nn as nn\n",
    "class GatedAE(nn.Module):\n",
    "    def __init__(self):\n",
    "        super().__init__()\n",
    "        self.encoder = nn.Sequential(\n",
    "            nn.Conv2d(1, 32, kernel_size=3, stride=2, padding=1),\n",
    "            nn.BatchNorm2d(32), nn.LeakyReLU(0.2),\n",
    "\n",
    "            nn.Conv2d(32, 64, kernel_size=3, stride=2, padding=1),\n",
    "            nn.BatchNorm2d(64), nn.LeakyReLU(0.2),\n",
    "\n",
    "            nn.Conv2d(64, 128, kernel_size=3, stride=1, padding=1),\n",
    "            nn.BatchNorm2d(128), nn.LeakyReLU(0.2)\n",
    "        )\n",
    "\n",
    "        self.flatten = nn.Flatten()\n",
    "        self.latent = nn.Sequential(\n",
    "            nn.Linear(128 * 7 * 7, 256),\n",
    "            nn.Dropout(0.3),\n",
    "            nn.Sigmoid()  # gate-like latent\n",
    "        )\n",
    "        self.unflatten = nn.Sequential(\n",
    "            nn.Linear(256, 128 * 7 * 7),\n",
    "            nn.LeakyReLU(0.2)\n",
    "        )\n",
    "\n",
    "        self.decoder = nn.Sequential(\n",
    "            nn.Unflatten(1, (128, 7, 7)),\n",
    "            nn.ConvTranspose2d(128, 64, kernel_size=4, stride=2, padding=1),\n",
    "            nn.BatchNorm2d(64), nn.LeakyReLU(0.2),\n",
    "\n",
    "            nn.ConvTranspose2d(64, 32, kernel_size=4, stride=2, padding=1),\n",
    "            nn.BatchNorm2d(32), nn.LeakyReLU(0.2),\n",
    "\n",
    "            nn.Conv2d(32, 1, kernel_size=3, padding=1),\n",
    "            nn.Sigmoid()\n",
    "        )\n",
    "\n",
    "    def forward(self, x):\n",
    "        z = self.encoder(x)\n",
    "        z_flat = self.flatten(z)\n",
    "        z_gate = self.latent(z_flat)\n",
    "        z_unflat = self.unflatten(z_gate)\n",
    "        out = self.decoder(z_unflat)\n",
    "        return out\n"
   ]
  },
  {
   "cell_type": "code",
   "execution_count": 38,
   "id": "2244f3ad",
   "metadata": {},
   "outputs": [],
   "source": [
    "# threshold를 찾는 함수 및 예측하는 함수    \n",
    "def find_threshold(model,dataloader,loss_fn,percentile=0.95):\n",
    "    \"\"\"\n",
    "    Find the threshold for the model on the dataset.\n",
    "    여기서 loss_fn은 custom loss function을 의미한다.\n",
    "    또한 percentile은 threshold를 결정하는 기준이 된다.\n",
    "    dataloader는 train_loader를 의미한다.\n",
    "    \"\"\"\n",
    "    # Calculate the loss for each sample in the dataloader\n",
    "    losses = []\n",
    "    for x, label in dataloader:\n",
    "        x = x.to(DEVICE)\n",
    "        output = model(x)\n",
    "        # loss = loss_fn(output,x) # Mean loss for the batch\n",
    "        loss = loss_fn(output,x).mean() # Mean loss for the batch\n",
    "        losses.append(loss.item())\n",
    "\n",
    "    # Calculate the threshold based on the specified percentile\n",
    "    threshold = np.percentile(losses, percentile * 100)\n",
    "    return threshold\n",
    "\n",
    "\n",
    "def predict(model, dataloader, loss_fn, threshold):\n",
    "    \"\"\"\n",
    "    Predict the labels for the dataset using the model and threshold.\n",
    "    여기서 loss_fn은 custom loss function을 의미한다.\n",
    "    또한 threshold는 find_threshold에서 구한 threshold를 의미한다.\n",
    "    dataloader는 test_loader를 의미한다.\n",
    "    \"\"\"\n",
    "    dic_loss = {'id':[], 'label':[], 'score':[],'normal':[]}\n",
    "\n",
    "    for step, (x, label) in enumerate(test_loader):\n",
    "        x = x.to(DEVICE)\n",
    "        label = label.to(DEVICE)\n",
    "        output = model(x)\n",
    "        loss = loss_fn(output,x).mean() # Mean loss for the batch\n",
    "\n",
    "        # Calculate the score based on the loss and threshold\n",
    "        dic_loss['id'].append(step)\n",
    "        dic_loss['label'].append(int(label)==2)\n",
    "        dic_loss['score'].append(loss.item())\n",
    "        if loss>threshold: dic_loss['normal'].append('0')\n",
    "        else: dic_loss['normal'].append('1')\n",
    "    \n",
    "    return dic_loss\n",
    "\n"
   ]
  },
  {
   "cell_type": "code",
   "execution_count": 39,
   "id": "6530232b-be16-46bc-9270-87544051890e",
   "metadata": {},
   "outputs": [
    {
     "name": "stdout",
     "output_type": "stream",
     "text": [
      "Threshold: 0.0278\n"
     ]
    }
   ],
   "source": [
    "import torch\n",
    "model = GatedAE()\n",
    "model.load_state_dict(torch.load('./model.pth'))\n",
    "model.to(DEVICE)\n",
    "model.eval() # Set the model to evaluation modes\n",
    "\n",
    "# 5. threshold 찾기\n",
    "threshold = find_threshold(model, train_loader, loss_fn, percentile=0.5)\n",
    "print(f\"Threshold: {threshold:.4f}\")\n"
   ]
  },
  {
   "cell_type": "code",
   "execution_count": 40,
   "id": "3eccf63b",
   "metadata": {},
   "outputs": [],
   "source": [
    "# 6. 예측하기\n",
    "dic_loss = predict(model, test_loader, loss_fn, threshold)"
   ]
  },
  {
   "cell_type": "markdown",
   "id": "21385408-c713-44bb-b21b-8252af26bf34",
   "metadata": {},
   "source": [
    "*****************************************************************"
   ]
  },
  {
   "cell_type": "markdown",
   "id": "6589de2d-3243-4fb0-9cf7-6d6dac975069",
   "metadata": {},
   "source": [
    "### 그래프 생성\n",
    "리포트에 생성된 그래프(e. g., AUROC)등을 제작하는 코드를 여기에 적어주세요. AUROC의 경우 그래프와 값이 출력되야 합니다.<br>\n",
    "AUROC 제작 코드는 하단 링크를 참고 해주세요.<br>\n",
    "https://scikit-learn.org/stable/modules/classes.html#module-sklearn.metrics <br>"
   ]
  },
  {
   "cell_type": "markdown",
   "id": "193e102b-6a41-4076-a4aa-da29b18815b9",
   "metadata": {},
   "source": [
    "<span style=\"color:blue\"> **** should be filled here **** </span>\n",
    "*****************************************************************"
   ]
  },
  {
   "cell_type": "code",
   "execution_count": 41,
   "id": "e49b5fd6-18be-40d0-9596-a2174db51d48",
   "metadata": {},
   "outputs": [
    {
     "data": {
      "image/png": "[encoded data removed]",
      "text/plain": [
       "<Figure size 640x480 with 1 Axes>"
      ]
     },
     "metadata": {},
     "output_type": "display_data"
    }
   ],
   "source": [
    "# Gernerating a plot\n",
    "arr_label = np.array(dic_loss['label'])\n",
    "arr_score = np.array(dic_loss['score'])\n",
    "score_min = arr_score.min()\n",
    "score_max = arr_score.max()\n",
    "plt.hist(arr_score[np.where(arr_label == 1)[0]], bins=30, range=(score_min, score_max), alpha=0.5, label='Normal')\n",
    "plt.hist(arr_score[np.where(arr_label == 0)[0]], bins=30, range=(score_min, score_max), alpha=0.5, label='Abnormal')\n",
    "plt.xlabel(\"Anomaly score\")\n",
    "plt.ylabel(\"Frequency\")\n",
    "plt.axvline(threshold,0,1, color='red',linestyle='--',linewidth=1)\n",
    "plt.legend(loc='upper right')\n",
    "plt.savefig(\"plot.png\")\n",
    "plt.show()"
   ]
  },
  {
   "cell_type": "code",
   "execution_count": 42,
   "id": "b2a7e1a6",
   "metadata": {},
   "outputs": [
    {
     "data": {
      "image/png": "[encoded data removed]",
      "text/plain": [
       "<Figure size 640x480 with 1 Axes>"
      ]
     },
     "metadata": {},
     "output_type": "display_data"
    },
    {
     "name": "stdout",
     "output_type": "stream",
     "text": [
      "AUROC: 0.6546375\n"
     ]
    }
   ],
   "source": [
    "fpr, tpr, thresholds = roc_curve(dic_loss['label'], dic_loss['score'], pos_label=0)\n",
    "plt.plot(fpr, tpr)\n",
    "plt.xlabel(\"FPR\")\n",
    "plt.ylabel(\"TPR\")\n",
    "plt.savefig(\"auroc.png\")\n",
    "plt.show()\n",
    "auroc = auc(fpr, tpr)\n",
    "print(\"AUROC: {}\".format(auroc))"
   ]
  },
  {
   "cell_type": "code",
   "execution_count": 43,
   "id": "ffc6d778",
   "metadata": {},
   "outputs": [
    {
     "name": "stdout",
     "output_type": "stream",
     "text": [
      "Accuracy: 0.7173333333333334\n",
      "Precision: 0.6478599221789884\n",
      "Recall: 0.333\n",
      "F1: 0.43989431968295906\n"
     ]
    }
   ],
   "source": [
    "trues = np.array(dic_loss['label'])\n",
    "preds = np.array(dic_loss['normal']).astype(int)\n",
    "print(\"Accuracy: {}\".format(np.mean(trues == preds)))\n",
    "print(\"Precision: {}\".format(np.sum((trues == preds) & (preds == 1)) / np.sum(preds == 1)))\n",
    "print(\"Recall: {}\".format(np.sum((trues == preds) & (preds == 1)) / np.sum(trues == 1)))\n",
    "print(\"F1: {}\".format(2 * np.sum((trues == preds) & (preds == 1)) / (np.sum(preds == 1) + np.sum(trues == 1))))\n"
   ]
  },
  {
   "cell_type": "markdown",
   "id": "b7abac93-924f-4165-9f1e-f6bf86d7c8a1",
   "metadata": {},
   "source": [
    "*****************************************************************"
   ]
  },
  {
   "cell_type": "markdown",
   "id": "e2d63539-7970-4690-89db-5b8894b4cc46",
   "metadata": {},
   "source": [
    "### Dataframe 생성\n",
    "kaggle에 제출한 dataframe(.csv)을 제작하는 코드를 적어주세요. <br>\n",
    "kaggle에 제출한 dataframe(.csv)파일과 정확도가 동일해야 합니다. <br>\n",
    "https://pandas.pydata.org/pandas-docs/stable/reference/api/pandas.DataFrame.to_csv.html"
   ]
  },
  {
   "cell_type": "markdown",
   "id": "9b02494e-54e3-4df7-a6d8-1812cdccd5e6",
   "metadata": {},
   "source": [
    "<span style=\"color:blue\"> **** should be filled here **** </span>\n",
    "*****************************************************************"
   ]
  },
  {
   "cell_type": "code",
   "execution_count": 44,
   "id": "288010a1-39a0-43da-a7a3-c5796287ad9c",
   "metadata": {},
   "outputs": [],
   "source": [
    "dic_loss.pop('score',None)\n",
    "dic_loss.pop('label',None)\n",
    "df = pd.DataFrame.from_dict(dic_loss)\n",
    "teamnumber = 8\n",
    "df.to_csv(\"result_team{}.csv\".format(teamnumber), index =False)"
   ]
  },
  {
   "cell_type": "code",
   "execution_count": 45,
   "id": "440eac9d",
   "metadata": {},
   "outputs": [
    {
     "data": {
      "text/html": [
       "<div>\n",
       "<style scoped>\n",
       "    .dataframe tbody tr th:only-of-type {\n",
       "        vertical-align: middle;\n",
       "    }\n",
       "\n",
       "    .dataframe tbody tr th {\n",
       "        vertical-align: top;\n",
       "    }\n",
       "\n",
       "    .dataframe thead th {\n",
       "        text-align: right;\n",
       "    }\n",
       "</style>\n",
       "<table border=\"1\" class=\"dataframe\">\n",
       "  <thead>\n",
       "    <tr style=\"text-align: right;\">\n",
       "      <th></th>\n",
       "      <th>id</th>\n",
       "      <th>normal</th>\n",
       "    </tr>\n",
       "  </thead>\n",
       "  <tbody>\n",
       "    <tr>\n",
       "      <th>0</th>\n",
       "      <td>0</td>\n",
       "      <td>0</td>\n",
       "    </tr>\n",
       "    <tr>\n",
       "      <th>1</th>\n",
       "      <td>1</td>\n",
       "      <td>0</td>\n",
       "    </tr>\n",
       "    <tr>\n",
       "      <th>2</th>\n",
       "      <td>2</td>\n",
       "      <td>0</td>\n",
       "    </tr>\n",
       "    <tr>\n",
       "      <th>3</th>\n",
       "      <td>3</td>\n",
       "      <td>0</td>\n",
       "    </tr>\n",
       "    <tr>\n",
       "      <th>4</th>\n",
       "      <td>4</td>\n",
       "      <td>0</td>\n",
       "    </tr>\n",
       "    <tr>\n",
       "      <th>...</th>\n",
       "      <td>...</td>\n",
       "      <td>...</td>\n",
       "    </tr>\n",
       "    <tr>\n",
       "      <th>2995</th>\n",
       "      <td>2995</td>\n",
       "      <td>0</td>\n",
       "    </tr>\n",
       "    <tr>\n",
       "      <th>2996</th>\n",
       "      <td>2996</td>\n",
       "      <td>0</td>\n",
       "    </tr>\n",
       "    <tr>\n",
       "      <th>2997</th>\n",
       "      <td>2997</td>\n",
       "      <td>0</td>\n",
       "    </tr>\n",
       "    <tr>\n",
       "      <th>2998</th>\n",
       "      <td>2998</td>\n",
       "      <td>0</td>\n",
       "    </tr>\n",
       "    <tr>\n",
       "      <th>2999</th>\n",
       "      <td>2999</td>\n",
       "      <td>0</td>\n",
       "    </tr>\n",
       "  </tbody>\n",
       "</table>\n",
       "<p>3000 rows × 2 columns</p>\n",
       "</div>"
      ],
      "text/plain": [
       "        id normal\n",
       "0        0      0\n",
       "1        1      0\n",
       "2        2      0\n",
       "3        3      0\n",
       "4        4      0\n",
       "...    ...    ...\n",
       "2995  2995      0\n",
       "2996  2996      0\n",
       "2997  2997      0\n",
       "2998  2998      0\n",
       "2999  2999      0\n",
       "\n",
       "[3000 rows x 2 columns]"
      ]
     },
     "execution_count": 45,
     "metadata": {},
     "output_type": "execute_result"
    }
   ],
   "source": [
    "df"
   ]
  },
  {
   "cell_type": "markdown",
   "id": "efbc6c6a-1a77-4644-837c-cfcd0d95d5cf",
   "metadata": {},
   "source": [
    "*****************************************************************"
   ]
  }
 ],
 "metadata": {
  "kernelspec": {
   "display_name": "venv",
   "language": "python",
   "name": "python3"
  },
  "language_info": {
   "codemirror_mode": {
    "name": "ipython",
    "version": 3
   },
   "file_extension": ".py",
   "mimetype": "text/x-python",
   "name": "python",
   "nbconvert_exporter": "python",
   "pygments_lexer": "ipython3",
   "version": "3.11.9"
  }
 },
 "nbformat": 4,
 "nbformat_minor": 5
}
